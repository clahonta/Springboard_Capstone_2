{
 "cells": [
  {
   "cell_type": "markdown",
   "metadata": {},
   "source": [
    "## Introduction\n",
    "\n",
    "This workbook details the pre-processing and model selection process for the Matchmaker's Dilemma project. After reviewing multiple models, the final model is based on scikit-learn's Random Forest classifier, which has been tuned to optimize performance. \n",
    "\n",
    "### Table of Contents\n",
    "\n",
    "1. [Imports](#Imports)\n",
    "2. [Data pre-processing](#Prep)\n",
    "3. [Model Selection](#ModSel)\n",
    "4. [ROC Curves](#ROC)\n",
    "5. [Feature Selection](#FS)\n",
    "6. [Thresholding](#TH)"
   ]
  },
  {
   "cell_type": "markdown",
   "metadata": {},
   "source": [
    "### 1. Imports <a class=\"anchor\" id=\"Imports\"></a>"
   ]
  },
  {
   "cell_type": "code",
   "execution_count": 1,
   "metadata": {},
   "outputs": [],
   "source": [
    "# Imports\n",
    "\n",
    "import pandas as pd\n",
    "import seaborn as sns\n",
    "import matplotlib.pyplot as plt\n",
    "import numpy as np\n",
    "from numpy import sqrt, argmax\n",
    "from scipy import stats\n",
    "import sklearn as sk\n",
    "from sklearn.model_selection import train_test_split, GridSearchCV\n",
    "from sklearn.linear_model import LogisticRegression\n",
    "from sklearn.svm import SVC\n",
    "from sklearn.metrics import precision_recall_curve, roc_curve, auc, confusion_matrix, accuracy_score, precision_score, f1_score, fbeta_score, classification_report\n",
    "from sklearn import ensemble\n",
    "from sklearn import tree, metrics\n",
    "from sklearn import preprocessing\n",
    "from patsy import dmatrices\n",
    "import statsmodels.api as sm\n",
    "from statsmodels.stats.outliers_influence import variance_inflation_factor"
   ]
  },
  {
   "cell_type": "markdown",
   "metadata": {},
   "source": [
    "### 2. Data pre-processing <a class=\"anchor\" id=\"Prep\"></a>"
   ]
  },
  {
   "cell_type": "code",
   "execution_count": 2,
   "metadata": {},
   "outputs": [
    {
     "data": {
      "text/plain": [
       "count    7178.000000\n",
       "mean        1.739203\n",
       "std         1.452407\n",
       "min        -3.000000\n",
       "25%         1.000000\n",
       "50%         2.000000\n",
       "75%         3.000000\n",
       "max         3.000000\n",
       "Name: marital_satisfaction, dtype: float64"
      ]
     },
     "execution_count": 2,
     "metadata": {},
     "output_type": "execute_result"
    }
   ],
   "source": [
    "# Load data set, drop col with numbers, drop high Pearson columns\n",
    "data = pd.read_csv(\"marital_satisfaction_data_wrangled_final.csv\")\n",
    "data = data.drop(['Unnamed: 0','spouse_satisfaction','relationship_satisfaction'], axis=1)\n",
    "\n",
    "# Drop Croatia + Catholic (highest n's)\n",
    "data = pd.get_dummies(data, prefix=['rel','cnty'], columns=['religion','country'])\n",
    "data = data.drop(['rel_Catholic','cnty_Croatia'], axis=1)\n",
    "\n",
    "data['marital_satisfaction'].describe()"
   ]
  },
  {
   "cell_type": "code",
   "execution_count": 3,
   "metadata": {},
   "outputs": [],
   "source": [
    "# Separate target variable from the feature set\n",
    "\n",
    "X = data.drop(['marital_satisfaction'], axis=1)\n",
    "X = sm.add_constant(X)\n",
    "y = data.marital_satisfaction"
   ]
  },
  {
   "cell_type": "code",
   "execution_count": 4,
   "metadata": {},
   "outputs": [],
   "source": [
    "# Scale X with Robust Scaler\n",
    "\n",
    "cols= list(X.columns)\n",
    "scaler = preprocessing.RobustScaler()\n",
    "X = scaler.fit_transform(X)\n",
    "X = pd.DataFrame(X, columns=cols)"
   ]
  },
  {
   "cell_type": "code",
   "execution_count": 5,
   "metadata": {},
   "outputs": [
    {
     "name": "stderr",
     "output_type": "stream",
     "text": [
      "C:\\Users\\webge\\anaconda3\\lib\\site-packages\\statsmodels\\regression\\linear_model.py:1717: RuntimeWarning: invalid value encountered in double_scalars\n",
      "  return 1 - self.ssr/self.uncentered_tss\n"
     ]
    },
    {
     "data": {
      "text/html": [
       "<div>\n",
       "<style scoped>\n",
       "    .dataframe tbody tr th:only-of-type {\n",
       "        vertical-align: middle;\n",
       "    }\n",
       "\n",
       "    .dataframe tbody tr th {\n",
       "        vertical-align: top;\n",
       "    }\n",
       "\n",
       "    .dataframe thead th {\n",
       "        text-align: right;\n",
       "    }\n",
       "</style>\n",
       "<table border=\"1\" class=\"dataframe\">\n",
       "  <thead>\n",
       "    <tr style=\"text-align: right;\">\n",
       "      <th></th>\n",
       "      <th>feature</th>\n",
       "      <th>VIF</th>\n",
       "    </tr>\n",
       "  </thead>\n",
       "  <tbody>\n",
       "    <tr>\n",
       "      <th>0</th>\n",
       "      <td>rel_Orthodox</td>\n",
       "      <td>4.353527</td>\n",
       "    </tr>\n",
       "    <tr>\n",
       "      <th>1</th>\n",
       "      <td>indv_pride_in_children</td>\n",
       "      <td>4.197491</td>\n",
       "    </tr>\n",
       "    <tr>\n",
       "      <th>2</th>\n",
       "      <td>natl_pride_in_children</td>\n",
       "      <td>3.582275</td>\n",
       "    </tr>\n",
       "    <tr>\n",
       "      <th>3</th>\n",
       "      <td>spouse_pride</td>\n",
       "      <td>3.329027</td>\n",
       "    </tr>\n",
       "    <tr>\n",
       "      <th>4</th>\n",
       "      <td>spouse_attraction</td>\n",
       "      <td>3.233326</td>\n",
       "    </tr>\n",
       "    <tr>\n",
       "      <th>...</th>\n",
       "      <td>...</td>\n",
       "      <td>...</td>\n",
       "    </tr>\n",
       "    <tr>\n",
       "      <th>63</th>\n",
       "      <td>rel_Other</td>\n",
       "      <td>1.083592</td>\n",
       "    </tr>\n",
       "    <tr>\n",
       "      <th>64</th>\n",
       "      <td>rel_Jehovah</td>\n",
       "      <td>1.069476</td>\n",
       "    </tr>\n",
       "    <tr>\n",
       "      <th>65</th>\n",
       "      <td>rel_Jewish</td>\n",
       "      <td>1.036192</td>\n",
       "    </tr>\n",
       "    <tr>\n",
       "      <th>66</th>\n",
       "      <td>rel_Evangelic</td>\n",
       "      <td>1.008569</td>\n",
       "    </tr>\n",
       "    <tr>\n",
       "      <th>67</th>\n",
       "      <td>const</td>\n",
       "      <td>NaN</td>\n",
       "    </tr>\n",
       "  </tbody>\n",
       "</table>\n",
       "<p>68 rows × 2 columns</p>\n",
       "</div>"
      ],
      "text/plain": [
       "                   feature       VIF\n",
       "0             rel_Orthodox  4.353527\n",
       "1   indv_pride_in_children  4.197491\n",
       "2   natl_pride_in_children  3.582275\n",
       "3             spouse_pride  3.329027\n",
       "4        spouse_attraction  3.233326\n",
       "..                     ...       ...\n",
       "63               rel_Other  1.083592\n",
       "64             rel_Jehovah  1.069476\n",
       "65              rel_Jewish  1.036192\n",
       "66           rel_Evangelic  1.008569\n",
       "67                   const       NaN\n",
       "\n",
       "[68 rows x 2 columns]"
      ]
     },
     "execution_count": 5,
     "metadata": {},
     "output_type": "execute_result"
    }
   ],
   "source": [
    "# Kept eliminating columns until VIF was under 5 for all features, scaled this time\n",
    "\n",
    "X = X.drop(['rel_Muslim', 'cnty_India', 'marriage_duration_years'], axis=1)\n",
    "vif = pd.DataFrame()\n",
    "vif[\"feature\"] = X.columns\n",
    "vif[\"VIF\"]=[variance_inflation_factor(X.values, i) for i in range(len(X.columns))]\n",
    "vif = vif.sort_values(by='VIF', ascending=False).reset_index(drop=True)\n",
    "vif"
   ]
  },
  {
   "cell_type": "code",
   "execution_count": 6,
   "metadata": {
    "scrolled": false
   },
   "outputs": [
    {
     "data": {
      "text/plain": [
       "0    6533\n",
       "1     645\n",
       "Name: marital_satisfaction, dtype: int64"
      ]
     },
     "execution_count": 6,
     "metadata": {},
     "output_type": "execute_result"
    }
   ],
   "source": [
    "# Recode target for classifier: 0 not unhappy, 1 unhappy\n",
    "\n",
    "y.replace(to_replace=[0,1,2,3], value=0, inplace=True)\n",
    "y.replace(to_replace=[-3,-2,-1], value=1, inplace=True)\n",
    "y.value_counts()"
   ]
  },
  {
   "cell_type": "markdown",
   "metadata": {},
   "source": [
    "### 3. Model Selection <a class=\"anchor\" id=\"ModSel\"></a>"
   ]
  },
  {
   "cell_type": "code",
   "execution_count": 7,
   "metadata": {},
   "outputs": [],
   "source": [
    "# First try Logistic Regression\n",
    "X_train, X_test, y_train, y_test = train_test_split(X,y,test_size=.25, random_state=8)\n",
    "log_reg = LogisticRegression(penalty='elasticnet',solver='saga',max_iter=5000)"
   ]
  },
  {
   "cell_type": "code",
   "execution_count": 8,
   "metadata": {},
   "outputs": [
    {
     "data": {
      "text/plain": [
       "LogisticRegression(C=0.01, l1_ratio=0.5, max_iter=5000, penalty='elasticnet',\n",
       "                   solver='saga')"
      ]
     },
     "execution_count": 8,
     "metadata": {},
     "output_type": "execute_result"
    }
   ],
   "source": [
    "# Check for best hyperparameters with GridSearch\n",
    "param_grid = {'C': [0.001, 0.01, 0.1, 1, 10, 100, 1000],\n",
    "             'l1_ratio': [0,.5,1]\n",
    "             }\n",
    "lr_cv = GridSearchCV(log_reg, param_grid, cv=10, scoring='roc_auc')\n",
    "lr_cv.fit(X,y)\n",
    "lr_cv.best_estimator_"
   ]
  },
  {
   "cell_type": "code",
   "execution_count": 9,
   "metadata": {},
   "outputs": [
    {
     "name": "stdout",
     "output_type": "stream",
     "text": [
      "0.8322821246550061\n"
     ]
    }
   ],
   "source": [
    "# Run classifier with best parameters and score model\n",
    "\n",
    "log_reg = LogisticRegression(C=0.01, l1_ratio=0.5, max_iter=5000, penalty='elasticnet', solver='saga')\n",
    "log_reg.fit(X_train, y_train)\n",
    "y_pred = log_reg.predict_proba(X_test)[:,1]\n",
    "logit_fpr, logit_tpr, threshold = roc_curve(y_test, y_pred)\n",
    "auc_logit = auc(logit_fpr, logit_tpr)\n",
    "\n",
    "\n",
    "print(auc_logit)"
   ]
  },
  {
   "cell_type": "code",
   "execution_count": 10,
   "metadata": {},
   "outputs": [],
   "source": [
    "# Second, try Random Forest\n",
    "X_train, X_test, y_train, y_test = train_test_split(X,y,test_size=.25, random_state=8)\n",
    "\n",
    "rf=ensemble.RandomForestClassifier()"
   ]
  },
  {
   "cell_type": "code",
   "execution_count": 11,
   "metadata": {},
   "outputs": [
    {
     "data": {
      "text/plain": [
       "RandomForestClassifier(max_depth=2, n_estimators=75)"
      ]
     },
     "execution_count": 11,
     "metadata": {},
     "output_type": "execute_result"
    }
   ],
   "source": [
    "# GridSearch for best hyperparameters\n",
    "\n",
    "param_grid = { \n",
    "    'n_estimators': [10, 25, 50, 75, 100],\n",
    "    'max_features': [None, 'auto', 'log2'],\n",
    "    'max_depth' : [2,3,4,5,6],\n",
    "}\n",
    "rf_cv = GridSearchCV(rf, param_grid, cv=10, scoring='roc_auc')\n",
    "\n",
    "rf_cv.fit(X,y)\n",
    "rf_cv.best_estimator_"
   ]
  },
  {
   "cell_type": "code",
   "execution_count": 12,
   "metadata": {},
   "outputs": [
    {
     "data": {
      "text/plain": [
       "array([0, 0, 0, ..., 0, 0, 0], dtype=int64)"
      ]
     },
     "execution_count": 12,
     "metadata": {},
     "output_type": "execute_result"
    }
   ],
   "source": [
    "# Run classifier with best parameters and score model\n",
    "\n",
    "rf=ensemble.RandomForestClassifier(max_depth=2, n_estimators=75)\n",
    "rf.fit(X_train, y_train)\n",
    "y_pred = rf.predict_proba(X_test)[:,1]\n",
    "y_predict = rf.predict(X_test)\n",
    "y_predict"
   ]
  },
  {
   "cell_type": "code",
   "execution_count": 13,
   "metadata": {},
   "outputs": [
    {
     "name": "stdout",
     "output_type": "stream",
     "text": [
      "0.8616552938586837\n"
     ]
    }
   ],
   "source": [
    "rf_fpr, rf_tpr, threshold = roc_curve(y_test, y_pred)\n",
    "auc_rf = auc(rf_fpr, rf_tpr)\n",
    "print(auc_rf)"
   ]
  },
  {
   "cell_type": "code",
   "execution_count": 15,
   "metadata": {},
   "outputs": [
    {
     "data": {
      "text/html": [
       "<div>\n",
       "<style scoped>\n",
       "    .dataframe tbody tr th:only-of-type {\n",
       "        vertical-align: middle;\n",
       "    }\n",
       "\n",
       "    .dataframe tbody tr th {\n",
       "        vertical-align: top;\n",
       "    }\n",
       "\n",
       "    .dataframe thead th {\n",
       "        text-align: right;\n",
       "    }\n",
       "</style>\n",
       "<table border=\"1\" class=\"dataframe\">\n",
       "  <thead>\n",
       "    <tr style=\"text-align: right;\">\n",
       "      <th></th>\n",
       "      <th>importance</th>\n",
       "    </tr>\n",
       "  </thead>\n",
       "  <tbody>\n",
       "    <tr>\n",
       "      <th>spouse_pride</th>\n",
       "      <td>0.164162</td>\n",
       "    </tr>\n",
       "    <tr>\n",
       "      <th>enjoy_spouse_company</th>\n",
       "      <td>0.111887</td>\n",
       "    </tr>\n",
       "    <tr>\n",
       "      <th>spouse_attraction</th>\n",
       "      <td>0.105809</td>\n",
       "    </tr>\n",
       "    <tr>\n",
       "      <th>happiness</th>\n",
       "      <td>0.102626</td>\n",
       "    </tr>\n",
       "    <tr>\n",
       "      <th>spouse_love</th>\n",
       "      <td>0.095585</td>\n",
       "    </tr>\n",
       "    <tr>\n",
       "      <th>...</th>\n",
       "      <td>...</td>\n",
       "    </tr>\n",
       "    <tr>\n",
       "      <th>cnty_China</th>\n",
       "      <td>0.000000</td>\n",
       "    </tr>\n",
       "    <tr>\n",
       "      <th>cnty_Ghana</th>\n",
       "      <td>0.000000</td>\n",
       "    </tr>\n",
       "    <tr>\n",
       "      <th>cnty_Greece</th>\n",
       "      <td>0.000000</td>\n",
       "    </tr>\n",
       "    <tr>\n",
       "      <th>cnty_HongKong</th>\n",
       "      <td>0.000000</td>\n",
       "    </tr>\n",
       "    <tr>\n",
       "      <th>cnty_Uganda</th>\n",
       "      <td>0.000000</td>\n",
       "    </tr>\n",
       "  </tbody>\n",
       "</table>\n",
       "<p>68 rows × 1 columns</p>\n",
       "</div>"
      ],
      "text/plain": [
       "                      importance\n",
       "spouse_pride            0.164162\n",
       "enjoy_spouse_company    0.111887\n",
       "spouse_attraction       0.105809\n",
       "happiness               0.102626\n",
       "spouse_love             0.095585\n",
       "...                          ...\n",
       "cnty_China              0.000000\n",
       "cnty_Ghana              0.000000\n",
       "cnty_Greece             0.000000\n",
       "cnty_HongKong           0.000000\n",
       "cnty_Uganda             0.000000\n",
       "\n",
       "[68 rows x 1 columns]"
      ]
     },
     "execution_count": 15,
     "metadata": {},
     "output_type": "execute_result"
    }
   ],
   "source": [
    "# feature importances for Random Forest\n",
    "\n",
    "fi_rf = pd.DataFrame(rf.feature_importances_, index = X_train.columns, columns=['importance']).sort_values('importance', ascending=False)\n",
    "fi_rf"
   ]
  },
  {
   "cell_type": "code",
   "execution_count": 16,
   "metadata": {},
   "outputs": [],
   "source": [
    "# Last, try Support Vector Classifier\n",
    "X_train, X_test, y_train, y_test = train_test_split(X,y,test_size=.25, random_state=8)\n",
    "\n",
    "svc=SVC()"
   ]
  },
  {
   "cell_type": "code",
   "execution_count": 17,
   "metadata": {},
   "outputs": [
    {
     "data": {
      "text/plain": [
       "SVC(C=0.001)"
      ]
     },
     "execution_count": 17,
     "metadata": {},
     "output_type": "execute_result"
    }
   ],
   "source": [
    "# Check for best hyperparameters with GridSearch\n",
    "\n",
    "param_grid = {'C': [0.001, 0.01, 0.1, 1, 10, 100, 1000],  }\n",
    "svc_cv = GridSearchCV(svc, param_grid, cv=10, scoring='roc_auc')\n",
    "svc_cv.fit(X,y)\n",
    "svc_cv.best_estimator_"
   ]
  },
  {
   "cell_type": "code",
   "execution_count": 18,
   "metadata": {},
   "outputs": [
    {
     "name": "stdout",
     "output_type": "stream",
     "text": [
      "0.7915093381195075\n"
     ]
    }
   ],
   "source": [
    "# Run classifier with best parameters and score model\n",
    "\n",
    "svc=SVC(C=.001, probability=True)\n",
    "svc.fit(X_train, y_train)\n",
    "y_pred = svc.predict_proba(X_test)[:,1]\n",
    "svc_fpr, svc_tpr, threshold = roc_curve(y_test, y_pred)\n",
    "auc_svc = auc(svc_fpr, svc_tpr)\n",
    "print(auc_svc)"
   ]
  },
  {
   "cell_type": "markdown",
   "metadata": {},
   "source": [
    "### 4. ROC Curves <a class=\"anchor\" id=\"ROC\"></a>"
   ]
  },
  {
   "cell_type": "code",
   "execution_count": 19,
   "metadata": {},
   "outputs": [
    {
     "data": {
      "image/png": "[encoded data removed]",
      "text/plain": [
       "<Figure size 1080x1080 with 1 Axes>"
      ]
     },
     "metadata": {
      "needs_background": "light"
     },
     "output_type": "display_data"
    }
   ],
   "source": [
    "fig, heat = plt.subplots(figsize = (15,15))\n",
    "plt.plot(logit_fpr, logit_tpr, marker='.', color='blue', label='Logistic Regression %f' % auc_logit)\n",
    "plt.plot(rf_fpr, rf_tpr, marker='.', color='green', label='Random Forest %f' % auc_rf)\n",
    "plt.plot(svc_fpr, svc_tpr, marker='.', color='red', label='SVC %f' % auc_svc)\n",
    "\n",
    "plt.legend()\n",
    "plt.savefig('auc_comp.png')\n",
    "plt.show()"
   ]
  },
  {
   "cell_type": "markdown",
   "metadata": {},
   "source": [
    "### 5. Feature Selection <a class=\"anchor\" id=\"FS\"></a>"
   ]
  },
  {
   "cell_type": "code",
   "execution_count": 20,
   "metadata": {},
   "outputs": [],
   "source": [
    "# Select and drop columns that appraise relationships.\n",
    "# As this project develops a tool for single people, appraisals of relationship\n",
    "# quality are not relevant\n",
    "\n",
    "rel_cols = ['enjoy_spouse_company', 'spouse_attraction',\n",
    "       'spouse_enjoy_doing_things_together', 'spouse_enjoy_cuddling',\n",
    "       'spouse_respect', 'spouse_pride', 'spouse_romance', 'spouse_love',]\n",
    "X = X.drop(rel_cols, axis=1)"
   ]
  },
  {
   "cell_type": "code",
   "execution_count": 48,
   "metadata": {},
   "outputs": [
    {
     "name": "stdout",
     "output_type": "stream",
     "text": [
      "0.7891896239353866\n"
     ]
    }
   ],
   "source": [
    "# Re-run Random Forest model with new columns and score\n",
    "X_train, X_test, y_train, y_test = train_test_split(X,y,test_size=.25, random_state=8)\n",
    "rf=ensemble.RandomForestClassifier(max_depth=2, n_estimators=25)\n",
    "rf.fit(X_train, y_train)\n",
    "y_pred = rf.predict_proba(X_test)[:,1]\n",
    "y_predict = rf.predict(X_test)\n",
    "rf_fpr, rf_tpr, threshold = roc_curve(y_test, y_pred)\n",
    "auc_rf = auc(rf_fpr, rf_tpr)\n",
    "print(auc_rf)"
   ]
  },
  {
   "cell_type": "code",
   "execution_count": 49,
   "metadata": {},
   "outputs": [
    {
     "data": {
      "image/png": "[encoded data removed]",
      "text/plain": [
       "<Figure size 1080x1080 with 1 Axes>"
      ]
     },
     "metadata": {
      "needs_background": "light"
     },
     "output_type": "display_data"
    }
   ],
   "source": [
    "\n",
    "fig, heat = plt.subplots(figsize = (15,15))\n",
    "plt.plot(rf_fpr, rf_tpr, marker='.', color='green', label='Random Forest %f' % auc_rf)\n",
    "\n",
    "plt.legend()\n",
    "plt.savefig('auc_rf.png')\n",
    "plt.show()"
   ]
  },
  {
   "cell_type": "code",
   "execution_count": 50,
   "metadata": {},
   "outputs": [
    {
     "data": {
      "text/html": [
       "<div>\n",
       "<style scoped>\n",
       "    .dataframe tbody tr th:only-of-type {\n",
       "        vertical-align: middle;\n",
       "    }\n",
       "\n",
       "    .dataframe tbody tr th {\n",
       "        vertical-align: top;\n",
       "    }\n",
       "\n",
       "    .dataframe thead th {\n",
       "        text-align: right;\n",
       "    }\n",
       "</style>\n",
       "<table border=\"1\" class=\"dataframe\">\n",
       "  <thead>\n",
       "    <tr style=\"text-align: right;\">\n",
       "      <th></th>\n",
       "      <th>importance</th>\n",
       "    </tr>\n",
       "  </thead>\n",
       "  <tbody>\n",
       "    <tr>\n",
       "      <th>happiness</th>\n",
       "      <td>0.223545</td>\n",
       "    </tr>\n",
       "    <tr>\n",
       "      <th>material_situation</th>\n",
       "      <td>0.219856</td>\n",
       "    </tr>\n",
       "    <tr>\n",
       "      <th>indv_pride_in_parents</th>\n",
       "      <td>0.088092</td>\n",
       "    </tr>\n",
       "    <tr>\n",
       "      <th>age</th>\n",
       "      <td>0.061570</td>\n",
       "    </tr>\n",
       "    <tr>\n",
       "      <th>natl_pride_in_parents</th>\n",
       "      <td>0.061265</td>\n",
       "    </tr>\n",
       "    <tr>\n",
       "      <th>religiosity</th>\n",
       "      <td>0.043488</td>\n",
       "    </tr>\n",
       "    <tr>\n",
       "      <th>natl_children_live_at_home_marraige</th>\n",
       "      <td>0.043016</td>\n",
       "    </tr>\n",
       "    <tr>\n",
       "      <th>cnty_Switzerland</th>\n",
       "      <td>0.041356</td>\n",
       "    </tr>\n",
       "    <tr>\n",
       "      <th>cnty_Germany</th>\n",
       "      <td>0.040570</td>\n",
       "    </tr>\n",
       "    <tr>\n",
       "      <th>natl_pride_in_children</th>\n",
       "      <td>0.032976</td>\n",
       "    </tr>\n",
       "    <tr>\n",
       "      <th>indv_aging_parents_live_with_children</th>\n",
       "      <td>0.030355</td>\n",
       "    </tr>\n",
       "    <tr>\n",
       "      <th>sex</th>\n",
       "      <td>0.027939</td>\n",
       "    </tr>\n",
       "    <tr>\n",
       "      <th>cnty_Slovakia</th>\n",
       "      <td>0.027070</td>\n",
       "    </tr>\n",
       "    <tr>\n",
       "      <th>num_children_total</th>\n",
       "      <td>0.014900</td>\n",
       "    </tr>\n",
       "    <tr>\n",
       "      <th>cnty_Turkey</th>\n",
       "      <td>0.010380</td>\n",
       "    </tr>\n",
       "    <tr>\n",
       "      <th>indv_pride_in_children</th>\n",
       "      <td>0.007141</td>\n",
       "    </tr>\n",
       "    <tr>\n",
       "      <th>cnty_Greece</th>\n",
       "      <td>0.005627</td>\n",
       "    </tr>\n",
       "    <tr>\n",
       "      <th>cnty_Mexico</th>\n",
       "      <td>0.004778</td>\n",
       "    </tr>\n",
       "    <tr>\n",
       "      <th>cnty_Romania</th>\n",
       "      <td>0.004509</td>\n",
       "    </tr>\n",
       "    <tr>\n",
       "      <th>cnty_HongKong</th>\n",
       "      <td>0.003281</td>\n",
       "    </tr>\n",
       "    <tr>\n",
       "      <th>cnty_Nigeria</th>\n",
       "      <td>0.003092</td>\n",
       "    </tr>\n",
       "    <tr>\n",
       "      <th>cnty_Bulgaria</th>\n",
       "      <td>0.002587</td>\n",
       "    </tr>\n",
       "    <tr>\n",
       "      <th>num_children_inhome</th>\n",
       "      <td>0.001261</td>\n",
       "    </tr>\n",
       "    <tr>\n",
       "      <th>cnty_Poland</th>\n",
       "      <td>0.001082</td>\n",
       "    </tr>\n",
       "    <tr>\n",
       "      <th>cnty_Canada</th>\n",
       "      <td>0.000266</td>\n",
       "    </tr>\n",
       "    <tr>\n",
       "      <th>cnty_Spain</th>\n",
       "      <td>0.000000</td>\n",
       "    </tr>\n",
       "    <tr>\n",
       "      <th>cnty_Iran</th>\n",
       "      <td>0.000000</td>\n",
       "    </tr>\n",
       "    <tr>\n",
       "      <th>cnty_U.K.</th>\n",
       "      <td>0.000000</td>\n",
       "    </tr>\n",
       "    <tr>\n",
       "      <th>cnty_Italy</th>\n",
       "      <td>0.000000</td>\n",
       "    </tr>\n",
       "    <tr>\n",
       "      <th>cnty_Kazakhstan</th>\n",
       "      <td>0.000000</td>\n",
       "    </tr>\n",
       "    <tr>\n",
       "      <th>cnty_Saudi Arabia</th>\n",
       "      <td>0.000000</td>\n",
       "    </tr>\n",
       "    <tr>\n",
       "      <th>cnty_Russia</th>\n",
       "      <td>0.000000</td>\n",
       "    </tr>\n",
       "    <tr>\n",
       "      <th>cnty_Malaysia</th>\n",
       "      <td>0.000000</td>\n",
       "    </tr>\n",
       "    <tr>\n",
       "      <th>cnty_South Korea</th>\n",
       "      <td>0.000000</td>\n",
       "    </tr>\n",
       "    <tr>\n",
       "      <th>cnty_Pakistan</th>\n",
       "      <td>0.000000</td>\n",
       "    </tr>\n",
       "    <tr>\n",
       "      <th>cnty_Portugal</th>\n",
       "      <td>0.000000</td>\n",
       "    </tr>\n",
       "    <tr>\n",
       "      <th>cnty_Indonesia</th>\n",
       "      <td>0.000000</td>\n",
       "    </tr>\n",
       "    <tr>\n",
       "      <th>cnty_Kenia</th>\n",
       "      <td>0.000000</td>\n",
       "    </tr>\n",
       "    <tr>\n",
       "      <th>const</th>\n",
       "      <td>0.000000</td>\n",
       "    </tr>\n",
       "    <tr>\n",
       "      <th>cnty_Hungary</th>\n",
       "      <td>0.000000</td>\n",
       "    </tr>\n",
       "    <tr>\n",
       "      <th>rel_Jehovah</th>\n",
       "      <td>0.000000</td>\n",
       "    </tr>\n",
       "    <tr>\n",
       "      <th>edu_level</th>\n",
       "      <td>0.000000</td>\n",
       "    </tr>\n",
       "    <tr>\n",
       "      <th>pension</th>\n",
       "      <td>0.000000</td>\n",
       "    </tr>\n",
       "    <tr>\n",
       "      <th>natl_aging_parents_live_with_children</th>\n",
       "      <td>0.000000</td>\n",
       "    </tr>\n",
       "    <tr>\n",
       "      <th>indv_children_live_at_home_marraige</th>\n",
       "      <td>0.000000</td>\n",
       "    </tr>\n",
       "    <tr>\n",
       "      <th>rel_Buddhist</th>\n",
       "      <td>0.000000</td>\n",
       "    </tr>\n",
       "    <tr>\n",
       "      <th>rel_Did not answer</th>\n",
       "      <td>0.000000</td>\n",
       "    </tr>\n",
       "    <tr>\n",
       "      <th>rel_Evangelic</th>\n",
       "      <td>0.000000</td>\n",
       "    </tr>\n",
       "    <tr>\n",
       "      <th>rel_Hindu</th>\n",
       "      <td>0.000000</td>\n",
       "    </tr>\n",
       "    <tr>\n",
       "      <th>rel_Jewish</th>\n",
       "      <td>0.000000</td>\n",
       "    </tr>\n",
       "    <tr>\n",
       "      <th>cnty_Ghana</th>\n",
       "      <td>0.000000</td>\n",
       "    </tr>\n",
       "    <tr>\n",
       "      <th>rel_None</th>\n",
       "      <td>0.000000</td>\n",
       "    </tr>\n",
       "    <tr>\n",
       "      <th>rel_Orthodox</th>\n",
       "      <td>0.000000</td>\n",
       "    </tr>\n",
       "    <tr>\n",
       "      <th>rel_Other</th>\n",
       "      <td>0.000000</td>\n",
       "    </tr>\n",
       "    <tr>\n",
       "      <th>rel_Protestant</th>\n",
       "      <td>0.000000</td>\n",
       "    </tr>\n",
       "    <tr>\n",
       "      <th>rel_Spiritualism</th>\n",
       "      <td>0.000000</td>\n",
       "    </tr>\n",
       "    <tr>\n",
       "      <th>cnty_Brazil</th>\n",
       "      <td>0.000000</td>\n",
       "    </tr>\n",
       "    <tr>\n",
       "      <th>cnty_China</th>\n",
       "      <td>0.000000</td>\n",
       "    </tr>\n",
       "    <tr>\n",
       "      <th>cnty_Estonia</th>\n",
       "      <td>0.000000</td>\n",
       "    </tr>\n",
       "    <tr>\n",
       "      <th>cnty_Uganda</th>\n",
       "      <td>0.000000</td>\n",
       "    </tr>\n",
       "  </tbody>\n",
       "</table>\n",
       "</div>"
      ],
      "text/plain": [
       "                                       importance\n",
       "happiness                                0.223545\n",
       "material_situation                       0.219856\n",
       "indv_pride_in_parents                    0.088092\n",
       "age                                      0.061570\n",
       "natl_pride_in_parents                    0.061265\n",
       "religiosity                              0.043488\n",
       "natl_children_live_at_home_marraige      0.043016\n",
       "cnty_Switzerland                         0.041356\n",
       "cnty_Germany                             0.040570\n",
       "natl_pride_in_children                   0.032976\n",
       "indv_aging_parents_live_with_children    0.030355\n",
       "sex                                      0.027939\n",
       "cnty_Slovakia                            0.027070\n",
       "num_children_total                       0.014900\n",
       "cnty_Turkey                              0.010380\n",
       "indv_pride_in_children                   0.007141\n",
       "cnty_Greece                              0.005627\n",
       "cnty_Mexico                              0.004778\n",
       "cnty_Romania                             0.004509\n",
       "cnty_HongKong                            0.003281\n",
       "cnty_Nigeria                             0.003092\n",
       "cnty_Bulgaria                            0.002587\n",
       "num_children_inhome                      0.001261\n",
       "cnty_Poland                              0.001082\n",
       "cnty_Canada                              0.000266\n",
       "cnty_Spain                               0.000000\n",
       "cnty_Iran                                0.000000\n",
       "cnty_U.K.                                0.000000\n",
       "cnty_Italy                               0.000000\n",
       "cnty_Kazakhstan                          0.000000\n",
       "cnty_Saudi Arabia                        0.000000\n",
       "cnty_Russia                              0.000000\n",
       "cnty_Malaysia                            0.000000\n",
       "cnty_South Korea                         0.000000\n",
       "cnty_Pakistan                            0.000000\n",
       "cnty_Portugal                            0.000000\n",
       "cnty_Indonesia                           0.000000\n",
       "cnty_Kenia                               0.000000\n",
       "const                                    0.000000\n",
       "cnty_Hungary                             0.000000\n",
       "rel_Jehovah                              0.000000\n",
       "edu_level                                0.000000\n",
       "pension                                  0.000000\n",
       "natl_aging_parents_live_with_children    0.000000\n",
       "indv_children_live_at_home_marraige      0.000000\n",
       "rel_Buddhist                             0.000000\n",
       "rel_Did not answer                       0.000000\n",
       "rel_Evangelic                            0.000000\n",
       "rel_Hindu                                0.000000\n",
       "rel_Jewish                               0.000000\n",
       "cnty_Ghana                               0.000000\n",
       "rel_None                                 0.000000\n",
       "rel_Orthodox                             0.000000\n",
       "rel_Other                                0.000000\n",
       "rel_Protestant                           0.000000\n",
       "rel_Spiritualism                         0.000000\n",
       "cnty_Brazil                              0.000000\n",
       "cnty_China                               0.000000\n",
       "cnty_Estonia                             0.000000\n",
       "cnty_Uganda                              0.000000"
      ]
     },
     "execution_count": 50,
     "metadata": {},
     "output_type": "execute_result"
    }
   ],
   "source": [
    "fi_rf = pd.DataFrame(rf.feature_importances_, index = X_train.columns, columns=['importance']).sort_values('importance', ascending=False)\n",
    "fi_rf"
   ]
  },
  {
   "cell_type": "code",
   "execution_count": 52,
   "metadata": {},
   "outputs": [],
   "source": [
    "# drop all columns except for most important features\n",
    "\n",
    "final_cols = ['happiness', 'material_situation', 'indv_pride_in_children', 'natl_pride_in_parents', 'indv_pride_in_parents', 'age']\n",
    "X = X[final_cols]"
   ]
  },
  {
   "cell_type": "code",
   "execution_count": 53,
   "metadata": {},
   "outputs": [
    {
     "name": "stdout",
     "output_type": "stream",
     "text": [
      "0.7847618483211704\n"
     ]
    }
   ],
   "source": [
    "# Re-run Random Forest model with new columns and score\n",
    "X_train, X_test, y_train, y_test = train_test_split(X,y,test_size=.25, random_state=8)\n",
    "rf=ensemble.RandomForestClassifier(max_depth=2, n_estimators=25)\n",
    "rf.fit(X_train, y_train)\n",
    "y_pred = rf.predict_proba(X_test)[:,1]\n",
    "y_predict = rf.predict(X_test)\n",
    "rf_fpr, rf_tpr, threshold = roc_curve(y_test, y_pred)\n",
    "auc_rf = auc(rf_fpr, rf_tpr)\n",
    "print(auc_rf)"
   ]
  },
  {
   "cell_type": "code",
   "execution_count": 54,
   "metadata": {},
   "outputs": [
    {
     "data": {
      "image/png": "[encoded data removed]",
      "text/plain": [
       "<Figure size 1080x1080 with 1 Axes>"
      ]
     },
     "metadata": {
      "needs_background": "light"
     },
     "output_type": "display_data"
    }
   ],
   "source": [
    "# plot curve for final feature set\n",
    "fig, heat = plt.subplots(figsize = (15,15))\n",
    "plt.plot(rf_fpr, rf_tpr, marker='.', color='green', label='Random Forest %f' % auc_rf)\n",
    "\n",
    "plt.legend()\n",
    "plt.savefig('auc_rf.png')\n",
    "plt.show()"
   ]
  },
  {
   "cell_type": "markdown",
   "metadata": {},
   "source": [
    "### 6. Thresholding <a class=\"anchor\" id=\"TH\"></a>"
   ]
  },
  {
   "cell_type": "code",
   "execution_count": 55,
   "metadata": {},
   "outputs": [
    {
     "name": "stdout",
     "output_type": "stream",
     "text": [
      "              precision    recall  f1-score   support\n",
      "\n",
      "           0       0.92      1.00      0.96      1652\n",
      "           1       0.00      0.00      0.00       143\n",
      "\n",
      "    accuracy                           0.92      1795\n",
      "   macro avg       0.46      0.50      0.48      1795\n",
      "weighted avg       0.85      0.92      0.88      1795\n",
      "\n",
      "[[1652    0]\n",
      " [ 143    0]]\n"
     ]
    },
    {
     "name": "stderr",
     "output_type": "stream",
     "text": [
      "C:\\Users\\webge\\anaconda3\\lib\\site-packages\\sklearn\\metrics\\_classification.py:1245: UndefinedMetricWarning: Precision and F-score are ill-defined and being set to 0.0 in labels with no predicted samples. Use `zero_division` parameter to control this behavior.\n",
      "  _warn_prf(average, modifier, msg_start, len(result))\n",
      "C:\\Users\\webge\\anaconda3\\lib\\site-packages\\sklearn\\metrics\\_classification.py:1245: UndefinedMetricWarning: Precision and F-score are ill-defined and being set to 0.0 in labels with no predicted samples. Use `zero_division` parameter to control this behavior.\n",
      "  _warn_prf(average, modifier, msg_start, len(result))\n",
      "C:\\Users\\webge\\anaconda3\\lib\\site-packages\\sklearn\\metrics\\_classification.py:1245: UndefinedMetricWarning: Precision and F-score are ill-defined and being set to 0.0 in labels with no predicted samples. Use `zero_division` parameter to control this behavior.\n",
      "  _warn_prf(average, modifier, msg_start, len(result))\n"
     ]
    }
   ],
   "source": [
    "# Check classification report for Random Forest and Confusion Matrix\n",
    "\n",
    "print(classification_report(y_test, y_predict))\n",
    "print(confusion_matrix(y_test, y_predict))"
   ]
  },
  {
   "cell_type": "code",
   "execution_count": 56,
   "metadata": {},
   "outputs": [],
   "source": [
    "# Precision-Recall value pairs for different thresholds\n",
    "pre, rec, th = precision_recall_curve(y_test, y_pred)\n",
    "\n",
    "# Classifier for probability\n",
    "def proba_classifier(y_pred, t):\n",
    "    return [1 if y >= t else 0 for y in y_pred]"
   ]
  },
  {
   "cell_type": "code",
   "execution_count": 58,
   "metadata": {},
   "outputs": [
    {
     "name": "stdout",
     "output_type": "stream",
     "text": [
      "          pred 0  pred 1\n",
      "actual 0    1221     431\n",
      "actual 1      47      96\n",
      "              precision    recall  f1-score   support\n",
      "\n",
      "           0       0.96      0.74      0.84      1652\n",
      "           1       0.18      0.67      0.29       143\n",
      "\n",
      "    accuracy                           0.73      1795\n",
      "   macro avg       0.57      0.71      0.56      1795\n",
      "weighted avg       0.90      0.73      0.79      1795\n",
      "\n"
     ]
    }
   ],
   "source": [
    "# Function to test different probability thresholds (t)\n",
    "\n",
    "def th_tester(pre, rec, th, t=.5):\n",
    "    y_pred_class = proba_classifier(y_pred, t)\n",
    "    print(pd.DataFrame(confusion_matrix(y_test, y_pred_class), columns=['pred 0', 'pred 1'], index=['actual 0', 'actual 1']))\n",
    "    print(classification_report(y_test, y_pred_class))\n",
    "    \n",
    "# Tested: .4, .1, .01, .05, .075* \n",
    "    \n",
    "th_tester(pre, rec, th, t=.075)"
   ]
  },
  {
   "cell_type": "code",
   "execution_count": null,
   "metadata": {},
   "outputs": [],
   "source": []
  }
 ],
 "metadata": {
  "kernelspec": {
   "display_name": "Python 3",
   "language": "python",
   "name": "python3"
  },
  "language_info": {
   "codemirror_mode": {
    "name": "ipython",
    "version": 3
   },
   "file_extension": ".py",
   "mimetype": "text/x-python",
   "name": "python",
   "nbconvert_exporter": "python",
   "pygments_lexer": "ipython3",
   "version": "3.8.8"
  }
 },
 "nbformat": 4,
 "nbformat_minor": 4
}
