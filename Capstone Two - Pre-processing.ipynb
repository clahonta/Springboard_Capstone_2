{
 "cells": [
  {
   "cell_type": "code",
   "execution_count": 1,
   "metadata": {},
   "outputs": [],
   "source": [
    "# Imports\n",
    "\n",
    "import pandas as pd\n",
    "import seaborn as sns\n",
    "import matplotlib.pyplot as plt\n",
    "import numpy as np\n",
    "from scipy import stats\n",
    "import sklearn as sk\n",
    "from sklearn.model_selection import train_test_split\n",
    "from sklearn.model_selection import GridSearchCV\n",
    "from sklearn.linear_model import LogisticRegression\n",
    "from sklearn import ensemble\n",
    "from sklearn import tree, metrics\n",
    "from sklearn import preprocessing\n",
    "from patsy import dmatrices\n",
    "import statsmodels.api as sm\n",
    "from statsmodels.stats.outliers_influence import variance_inflation_factor\n",
    "\n",
    "# Add constant for SM"
   ]
  },
  {
   "cell_type": "code",
   "execution_count": 2,
   "metadata": {},
   "outputs": [
    {
     "data": {
      "text/plain": [
       "count    7178.000000\n",
       "mean        1.739203\n",
       "std         1.452407\n",
       "min        -3.000000\n",
       "25%         1.000000\n",
       "50%         2.000000\n",
       "75%         3.000000\n",
       "max         3.000000\n",
       "Name: marital_satisfaction, dtype: float64"
      ]
     },
     "execution_count": 2,
     "metadata": {},
     "output_type": "execute_result"
    }
   ],
   "source": [
    "# Load data set, drop col with numbers, drop high Pearson columns\n",
    "data = pd.read_csv(\"marital_satisfaction_data_wrangled_final.csv\")\n",
    "data = data.drop(['Unnamed: 0','spouse_satisfaction','relationship_satisfaction'], axis=1)\n",
    "\n",
    "# Drop Croatia + Catholic (highest n's)\n",
    "data = pd.get_dummies(data, prefix=['rel','cnty'], columns=['religion','country'])\n",
    "data = data.drop(['rel_Catholic','cnty_Croatia'], axis=1)\n",
    "\n",
    "\n",
    "\n",
    "data['marital_satisfaction'].describe()"
   ]
  },
  {
   "cell_type": "code",
   "execution_count": 3,
   "metadata": {},
   "outputs": [],
   "source": [
    "X = data.drop(['marital_satisfaction'], axis=1)\n",
    "X = sm.add_constant(X)\n",
    "y = data.marital_satisfaction"
   ]
  },
  {
   "cell_type": "code",
   "execution_count": 4,
   "metadata": {},
   "outputs": [
    {
     "data": {
      "text/html": [
       "<div>\n",
       "<style scoped>\n",
       "    .dataframe tbody tr th:only-of-type {\n",
       "        vertical-align: middle;\n",
       "    }\n",
       "\n",
       "    .dataframe tbody tr th {\n",
       "        vertical-align: top;\n",
       "    }\n",
       "\n",
       "    .dataframe thead th {\n",
       "        text-align: right;\n",
       "    }\n",
       "</style>\n",
       "<table border=\"1\" class=\"dataframe\">\n",
       "  <thead>\n",
       "    <tr style=\"text-align: right;\">\n",
       "      <th></th>\n",
       "      <th>feature</th>\n",
       "      <th>VIF</th>\n",
       "    </tr>\n",
       "  </thead>\n",
       "  <tbody>\n",
       "    <tr>\n",
       "      <th>0</th>\n",
       "      <td>const</td>\n",
       "      <td>104.739405</td>\n",
       "    </tr>\n",
       "    <tr>\n",
       "      <th>1</th>\n",
       "      <td>rel_Muslim</td>\n",
       "      <td>7.163801</td>\n",
       "    </tr>\n",
       "    <tr>\n",
       "      <th>2</th>\n",
       "      <td>cnty_India</td>\n",
       "      <td>6.530549</td>\n",
       "    </tr>\n",
       "    <tr>\n",
       "      <th>3</th>\n",
       "      <td>rel_Hindu</td>\n",
       "      <td>5.868178</td>\n",
       "    </tr>\n",
       "    <tr>\n",
       "      <th>4</th>\n",
       "      <td>marriage_duration_years</td>\n",
       "      <td>5.446671</td>\n",
       "    </tr>\n",
       "    <tr>\n",
       "      <th>...</th>\n",
       "      <td>...</td>\n",
       "      <td>...</td>\n",
       "    </tr>\n",
       "    <tr>\n",
       "      <th>66</th>\n",
       "      <td>rel_Other</td>\n",
       "      <td>1.088229</td>\n",
       "    </tr>\n",
       "    <tr>\n",
       "      <th>67</th>\n",
       "      <td>sex</td>\n",
       "      <td>1.077339</td>\n",
       "    </tr>\n",
       "    <tr>\n",
       "      <th>68</th>\n",
       "      <td>rel_Jehovah</td>\n",
       "      <td>1.072540</td>\n",
       "    </tr>\n",
       "    <tr>\n",
       "      <th>69</th>\n",
       "      <td>rel_Jewish</td>\n",
       "      <td>1.039219</td>\n",
       "    </tr>\n",
       "    <tr>\n",
       "      <th>70</th>\n",
       "      <td>rel_Evangelic</td>\n",
       "      <td>1.008892</td>\n",
       "    </tr>\n",
       "  </tbody>\n",
       "</table>\n",
       "<p>71 rows × 2 columns</p>\n",
       "</div>"
      ],
      "text/plain": [
       "                    feature         VIF\n",
       "0                     const  104.739405\n",
       "1                rel_Muslim    7.163801\n",
       "2                cnty_India    6.530549\n",
       "3                 rel_Hindu    5.868178\n",
       "4   marriage_duration_years    5.446671\n",
       "..                      ...         ...\n",
       "66                rel_Other    1.088229\n",
       "67                      sex    1.077339\n",
       "68              rel_Jehovah    1.072540\n",
       "69               rel_Jewish    1.039219\n",
       "70            rel_Evangelic    1.008892\n",
       "\n",
       "[71 rows x 2 columns]"
      ]
     },
     "execution_count": 4,
     "metadata": {},
     "output_type": "execute_result"
    }
   ],
   "source": [
    "# VIF on unscaled data\n",
    "\n",
    "vif = pd.DataFrame()\n",
    "vif[\"feature\"] = X.columns\n",
    "vif[\"VIF\"]=[variance_inflation_factor(X.values, i) for i in range(len(X.columns))]\n",
    "vif = vif.sort_values(by='VIF', ascending=False).reset_index(drop=True)\n",
    "vif"
   ]
  },
  {
   "cell_type": "code",
   "execution_count": 5,
   "metadata": {},
   "outputs": [
    {
     "data": {
      "text/html": [
       "<div>\n",
       "<style scoped>\n",
       "    .dataframe tbody tr th:only-of-type {\n",
       "        vertical-align: middle;\n",
       "    }\n",
       "\n",
       "    .dataframe tbody tr th {\n",
       "        vertical-align: top;\n",
       "    }\n",
       "\n",
       "    .dataframe thead th {\n",
       "        text-align: right;\n",
       "    }\n",
       "</style>\n",
       "<table border=\"1\" class=\"dataframe\">\n",
       "  <thead>\n",
       "    <tr style=\"text-align: right;\">\n",
       "      <th></th>\n",
       "      <th>feature</th>\n",
       "      <th>VIF</th>\n",
       "    </tr>\n",
       "  </thead>\n",
       "  <tbody>\n",
       "    <tr>\n",
       "      <th>0</th>\n",
       "      <td>const</td>\n",
       "      <td>91.100539</td>\n",
       "    </tr>\n",
       "    <tr>\n",
       "      <th>1</th>\n",
       "      <td>rel_Orthodox</td>\n",
       "      <td>4.098410</td>\n",
       "    </tr>\n",
       "    <tr>\n",
       "      <th>2</th>\n",
       "      <td>indv_pride_in_children</td>\n",
       "      <td>3.083480</td>\n",
       "    </tr>\n",
       "    <tr>\n",
       "      <th>3</th>\n",
       "      <td>spouse_pride</td>\n",
       "      <td>2.542765</td>\n",
       "    </tr>\n",
       "    <tr>\n",
       "      <th>4</th>\n",
       "      <td>cnty_Russia</td>\n",
       "      <td>2.523981</td>\n",
       "    </tr>\n",
       "    <tr>\n",
       "      <th>...</th>\n",
       "      <td>...</td>\n",
       "      <td>...</td>\n",
       "    </tr>\n",
       "    <tr>\n",
       "      <th>63</th>\n",
       "      <td>rel_Other</td>\n",
       "      <td>1.075812</td>\n",
       "    </tr>\n",
       "    <tr>\n",
       "      <th>64</th>\n",
       "      <td>sex</td>\n",
       "      <td>1.070384</td>\n",
       "    </tr>\n",
       "    <tr>\n",
       "      <th>65</th>\n",
       "      <td>rel_Jehovah</td>\n",
       "      <td>1.061958</td>\n",
       "    </tr>\n",
       "    <tr>\n",
       "      <th>66</th>\n",
       "      <td>rel_Jewish</td>\n",
       "      <td>1.030952</td>\n",
       "    </tr>\n",
       "    <tr>\n",
       "      <th>67</th>\n",
       "      <td>rel_Evangelic</td>\n",
       "      <td>1.008293</td>\n",
       "    </tr>\n",
       "  </tbody>\n",
       "</table>\n",
       "<p>68 rows × 2 columns</p>\n",
       "</div>"
      ],
      "text/plain": [
       "                   feature        VIF\n",
       "0                    const  91.100539\n",
       "1             rel_Orthodox   4.098410\n",
       "2   indv_pride_in_children   3.083480\n",
       "3             spouse_pride   2.542765\n",
       "4              cnty_Russia   2.523981\n",
       "..                     ...        ...\n",
       "63               rel_Other   1.075812\n",
       "64                     sex   1.070384\n",
       "65             rel_Jehovah   1.061958\n",
       "66              rel_Jewish   1.030952\n",
       "67           rel_Evangelic   1.008293\n",
       "\n",
       "[68 rows x 2 columns]"
      ]
     },
     "execution_count": 5,
     "metadata": {},
     "output_type": "execute_result"
    }
   ],
   "source": [
    "# Kept eliminating columns until VIF was under 10 for all features\n",
    "# Add constant to X, then do VIF again\n",
    "# Aim for 5\n",
    "\n",
    "Xvif10 = X.drop(['rel_Muslim', 'cnty_India', 'marriage_duration_years'], axis=1)\n",
    "vif = pd.DataFrame()\n",
    "vif[\"feature\"] = Xvif10.columns\n",
    "vif[\"VIF\"]=[variance_inflation_factor(Xvif10.values, i) for i in range(len(Xvif10.columns))]\n",
    "vif = vif.sort_values(by='VIF', ascending=False).reset_index(drop=True)\n",
    "vif"
   ]
  },
  {
   "cell_type": "code",
   "execution_count": 6,
   "metadata": {},
   "outputs": [
    {
     "data": {
      "text/html": [
       "<div>\n",
       "<style scoped>\n",
       "    .dataframe tbody tr th:only-of-type {\n",
       "        vertical-align: middle;\n",
       "    }\n",
       "\n",
       "    .dataframe tbody tr th {\n",
       "        vertical-align: top;\n",
       "    }\n",
       "\n",
       "    .dataframe thead th {\n",
       "        text-align: right;\n",
       "    }\n",
       "</style>\n",
       "<table border=\"1\" class=\"dataframe\">\n",
       "  <thead>\n",
       "    <tr style=\"text-align: right;\">\n",
       "      <th></th>\n",
       "      <th>const</th>\n",
       "      <th>sex</th>\n",
       "      <th>age</th>\n",
       "      <th>marriage_duration_years</th>\n",
       "      <th>num_children_total</th>\n",
       "      <th>num_children_inhome</th>\n",
       "      <th>edu_level</th>\n",
       "      <th>material_situation</th>\n",
       "      <th>religiosity</th>\n",
       "      <th>pension</th>\n",
       "      <th>...</th>\n",
       "      <th>cnty_Romania</th>\n",
       "      <th>cnty_Russia</th>\n",
       "      <th>cnty_Saudi Arabia</th>\n",
       "      <th>cnty_Slovakia</th>\n",
       "      <th>cnty_South Korea</th>\n",
       "      <th>cnty_Spain</th>\n",
       "      <th>cnty_Switzerland</th>\n",
       "      <th>cnty_Turkey</th>\n",
       "      <th>cnty_U.K.</th>\n",
       "      <th>cnty_Uganda</th>\n",
       "    </tr>\n",
       "  </thead>\n",
       "  <tbody>\n",
       "    <tr>\n",
       "      <th>0</th>\n",
       "      <td>0.0</td>\n",
       "      <td>-1.0</td>\n",
       "      <td>-1.058824</td>\n",
       "      <td>-0.555556</td>\n",
       "      <td>-2.0</td>\n",
       "      <td>-0.5</td>\n",
       "      <td>0.0</td>\n",
       "      <td>0.0</td>\n",
       "      <td>0.0</td>\n",
       "      <td>-0.333333</td>\n",
       "      <td>...</td>\n",
       "      <td>0.0</td>\n",
       "      <td>0.0</td>\n",
       "      <td>0.0</td>\n",
       "      <td>0.0</td>\n",
       "      <td>0.0</td>\n",
       "      <td>0.0</td>\n",
       "      <td>0.0</td>\n",
       "      <td>0.0</td>\n",
       "      <td>0.0</td>\n",
       "      <td>0.0</td>\n",
       "    </tr>\n",
       "    <tr>\n",
       "      <th>1</th>\n",
       "      <td>0.0</td>\n",
       "      <td>-1.0</td>\n",
       "      <td>-0.588235</td>\n",
       "      <td>-0.500000</td>\n",
       "      <td>-1.0</td>\n",
       "      <td>-0.5</td>\n",
       "      <td>0.0</td>\n",
       "      <td>0.0</td>\n",
       "      <td>1.0</td>\n",
       "      <td>-0.666667</td>\n",
       "      <td>...</td>\n",
       "      <td>0.0</td>\n",
       "      <td>0.0</td>\n",
       "      <td>0.0</td>\n",
       "      <td>0.0</td>\n",
       "      <td>0.0</td>\n",
       "      <td>0.0</td>\n",
       "      <td>0.0</td>\n",
       "      <td>0.0</td>\n",
       "      <td>0.0</td>\n",
       "      <td>0.0</td>\n",
       "    </tr>\n",
       "    <tr>\n",
       "      <th>2</th>\n",
       "      <td>0.0</td>\n",
       "      <td>-1.0</td>\n",
       "      <td>-0.529412</td>\n",
       "      <td>-0.277778</td>\n",
       "      <td>-2.0</td>\n",
       "      <td>-0.5</td>\n",
       "      <td>0.0</td>\n",
       "      <td>0.0</td>\n",
       "      <td>0.0</td>\n",
       "      <td>-0.333333</td>\n",
       "      <td>...</td>\n",
       "      <td>0.0</td>\n",
       "      <td>0.0</td>\n",
       "      <td>0.0</td>\n",
       "      <td>0.0</td>\n",
       "      <td>0.0</td>\n",
       "      <td>0.0</td>\n",
       "      <td>0.0</td>\n",
       "      <td>0.0</td>\n",
       "      <td>0.0</td>\n",
       "      <td>0.0</td>\n",
       "    </tr>\n",
       "    <tr>\n",
       "      <th>3</th>\n",
       "      <td>0.0</td>\n",
       "      <td>-1.0</td>\n",
       "      <td>-0.529412</td>\n",
       "      <td>-0.277778</td>\n",
       "      <td>-1.0</td>\n",
       "      <td>0.0</td>\n",
       "      <td>0.0</td>\n",
       "      <td>0.0</td>\n",
       "      <td>1.0</td>\n",
       "      <td>-1.333333</td>\n",
       "      <td>...</td>\n",
       "      <td>0.0</td>\n",
       "      <td>0.0</td>\n",
       "      <td>0.0</td>\n",
       "      <td>0.0</td>\n",
       "      <td>0.0</td>\n",
       "      <td>0.0</td>\n",
       "      <td>0.0</td>\n",
       "      <td>0.0</td>\n",
       "      <td>0.0</td>\n",
       "      <td>0.0</td>\n",
       "    </tr>\n",
       "    <tr>\n",
       "      <th>4</th>\n",
       "      <td>0.0</td>\n",
       "      <td>-1.0</td>\n",
       "      <td>-0.647059</td>\n",
       "      <td>-0.166667</td>\n",
       "      <td>-2.0</td>\n",
       "      <td>-0.5</td>\n",
       "      <td>-1.0</td>\n",
       "      <td>1.0</td>\n",
       "      <td>0.5</td>\n",
       "      <td>-1.333333</td>\n",
       "      <td>...</td>\n",
       "      <td>0.0</td>\n",
       "      <td>0.0</td>\n",
       "      <td>0.0</td>\n",
       "      <td>0.0</td>\n",
       "      <td>0.0</td>\n",
       "      <td>0.0</td>\n",
       "      <td>0.0</td>\n",
       "      <td>0.0</td>\n",
       "      <td>0.0</td>\n",
       "      <td>0.0</td>\n",
       "    </tr>\n",
       "    <tr>\n",
       "      <th>...</th>\n",
       "      <td>...</td>\n",
       "      <td>...</td>\n",
       "      <td>...</td>\n",
       "      <td>...</td>\n",
       "      <td>...</td>\n",
       "      <td>...</td>\n",
       "      <td>...</td>\n",
       "      <td>...</td>\n",
       "      <td>...</td>\n",
       "      <td>...</td>\n",
       "      <td>...</td>\n",
       "      <td>...</td>\n",
       "      <td>...</td>\n",
       "      <td>...</td>\n",
       "      <td>...</td>\n",
       "      <td>...</td>\n",
       "      <td>...</td>\n",
       "      <td>...</td>\n",
       "      <td>...</td>\n",
       "      <td>...</td>\n",
       "      <td>...</td>\n",
       "    </tr>\n",
       "    <tr>\n",
       "      <th>7173</th>\n",
       "      <td>0.0</td>\n",
       "      <td>-1.0</td>\n",
       "      <td>-0.411765</td>\n",
       "      <td>-0.277778</td>\n",
       "      <td>0.0</td>\n",
       "      <td>1.0</td>\n",
       "      <td>0.0</td>\n",
       "      <td>2.0</td>\n",
       "      <td>0.0</td>\n",
       "      <td>0.666667</td>\n",
       "      <td>...</td>\n",
       "      <td>0.0</td>\n",
       "      <td>0.0</td>\n",
       "      <td>0.0</td>\n",
       "      <td>0.0</td>\n",
       "      <td>0.0</td>\n",
       "      <td>0.0</td>\n",
       "      <td>0.0</td>\n",
       "      <td>0.0</td>\n",
       "      <td>0.0</td>\n",
       "      <td>1.0</td>\n",
       "    </tr>\n",
       "    <tr>\n",
       "      <th>7174</th>\n",
       "      <td>0.0</td>\n",
       "      <td>-1.0</td>\n",
       "      <td>-0.176471</td>\n",
       "      <td>-0.333333</td>\n",
       "      <td>2.0</td>\n",
       "      <td>1.5</td>\n",
       "      <td>0.0</td>\n",
       "      <td>0.0</td>\n",
       "      <td>0.0</td>\n",
       "      <td>0.666667</td>\n",
       "      <td>...</td>\n",
       "      <td>0.0</td>\n",
       "      <td>0.0</td>\n",
       "      <td>0.0</td>\n",
       "      <td>0.0</td>\n",
       "      <td>0.0</td>\n",
       "      <td>0.0</td>\n",
       "      <td>0.0</td>\n",
       "      <td>0.0</td>\n",
       "      <td>0.0</td>\n",
       "      <td>1.0</td>\n",
       "    </tr>\n",
       "    <tr>\n",
       "      <th>7175</th>\n",
       "      <td>0.0</td>\n",
       "      <td>-1.0</td>\n",
       "      <td>-0.411765</td>\n",
       "      <td>-0.555556</td>\n",
       "      <td>-1.0</td>\n",
       "      <td>0.0</td>\n",
       "      <td>0.0</td>\n",
       "      <td>1.0</td>\n",
       "      <td>1.5</td>\n",
       "      <td>-0.333333</td>\n",
       "      <td>...</td>\n",
       "      <td>0.0</td>\n",
       "      <td>0.0</td>\n",
       "      <td>0.0</td>\n",
       "      <td>0.0</td>\n",
       "      <td>0.0</td>\n",
       "      <td>0.0</td>\n",
       "      <td>0.0</td>\n",
       "      <td>0.0</td>\n",
       "      <td>0.0</td>\n",
       "      <td>1.0</td>\n",
       "    </tr>\n",
       "    <tr>\n",
       "      <th>7176</th>\n",
       "      <td>0.0</td>\n",
       "      <td>-1.0</td>\n",
       "      <td>-0.705882</td>\n",
       "      <td>-0.500000</td>\n",
       "      <td>0.0</td>\n",
       "      <td>0.5</td>\n",
       "      <td>0.0</td>\n",
       "      <td>1.0</td>\n",
       "      <td>1.5</td>\n",
       "      <td>0.000000</td>\n",
       "      <td>...</td>\n",
       "      <td>0.0</td>\n",
       "      <td>0.0</td>\n",
       "      <td>0.0</td>\n",
       "      <td>0.0</td>\n",
       "      <td>0.0</td>\n",
       "      <td>0.0</td>\n",
       "      <td>0.0</td>\n",
       "      <td>0.0</td>\n",
       "      <td>0.0</td>\n",
       "      <td>1.0</td>\n",
       "    </tr>\n",
       "    <tr>\n",
       "      <th>7177</th>\n",
       "      <td>0.0</td>\n",
       "      <td>-1.0</td>\n",
       "      <td>0.823529</td>\n",
       "      <td>0.666667</td>\n",
       "      <td>4.0</td>\n",
       "      <td>0.0</td>\n",
       "      <td>0.0</td>\n",
       "      <td>0.0</td>\n",
       "      <td>1.0</td>\n",
       "      <td>0.000000</td>\n",
       "      <td>...</td>\n",
       "      <td>0.0</td>\n",
       "      <td>0.0</td>\n",
       "      <td>0.0</td>\n",
       "      <td>0.0</td>\n",
       "      <td>0.0</td>\n",
       "      <td>0.0</td>\n",
       "      <td>0.0</td>\n",
       "      <td>0.0</td>\n",
       "      <td>0.0</td>\n",
       "      <td>1.0</td>\n",
       "    </tr>\n",
       "  </tbody>\n",
       "</table>\n",
       "<p>7178 rows × 71 columns</p>\n",
       "</div>"
      ],
      "text/plain": [
       "      const  sex       age  marriage_duration_years  num_children_total  \\\n",
       "0       0.0 -1.0 -1.058824                -0.555556                -2.0   \n",
       "1       0.0 -1.0 -0.588235                -0.500000                -1.0   \n",
       "2       0.0 -1.0 -0.529412                -0.277778                -2.0   \n",
       "3       0.0 -1.0 -0.529412                -0.277778                -1.0   \n",
       "4       0.0 -1.0 -0.647059                -0.166667                -2.0   \n",
       "...     ...  ...       ...                      ...                 ...   \n",
       "7173    0.0 -1.0 -0.411765                -0.277778                 0.0   \n",
       "7174    0.0 -1.0 -0.176471                -0.333333                 2.0   \n",
       "7175    0.0 -1.0 -0.411765                -0.555556                -1.0   \n",
       "7176    0.0 -1.0 -0.705882                -0.500000                 0.0   \n",
       "7177    0.0 -1.0  0.823529                 0.666667                 4.0   \n",
       "\n",
       "      num_children_inhome  edu_level  material_situation  religiosity  \\\n",
       "0                    -0.5        0.0                 0.0          0.0   \n",
       "1                    -0.5        0.0                 0.0          1.0   \n",
       "2                    -0.5        0.0                 0.0          0.0   \n",
       "3                     0.0        0.0                 0.0          1.0   \n",
       "4                    -0.5       -1.0                 1.0          0.5   \n",
       "...                   ...        ...                 ...          ...   \n",
       "7173                  1.0        0.0                 2.0          0.0   \n",
       "7174                  1.5        0.0                 0.0          0.0   \n",
       "7175                  0.0        0.0                 1.0          1.5   \n",
       "7176                  0.5        0.0                 1.0          1.5   \n",
       "7177                  0.0        0.0                 0.0          1.0   \n",
       "\n",
       "       pension  ...  cnty_Romania  cnty_Russia  cnty_Saudi Arabia  \\\n",
       "0    -0.333333  ...           0.0          0.0                0.0   \n",
       "1    -0.666667  ...           0.0          0.0                0.0   \n",
       "2    -0.333333  ...           0.0          0.0                0.0   \n",
       "3    -1.333333  ...           0.0          0.0                0.0   \n",
       "4    -1.333333  ...           0.0          0.0                0.0   \n",
       "...        ...  ...           ...          ...                ...   \n",
       "7173  0.666667  ...           0.0          0.0                0.0   \n",
       "7174  0.666667  ...           0.0          0.0                0.0   \n",
       "7175 -0.333333  ...           0.0          0.0                0.0   \n",
       "7176  0.000000  ...           0.0          0.0                0.0   \n",
       "7177  0.000000  ...           0.0          0.0                0.0   \n",
       "\n",
       "      cnty_Slovakia  cnty_South Korea  cnty_Spain   cnty_Switzerland  \\\n",
       "0               0.0               0.0          0.0               0.0   \n",
       "1               0.0               0.0          0.0               0.0   \n",
       "2               0.0               0.0          0.0               0.0   \n",
       "3               0.0               0.0          0.0               0.0   \n",
       "4               0.0               0.0          0.0               0.0   \n",
       "...             ...               ...          ...               ...   \n",
       "7173            0.0               0.0          0.0               0.0   \n",
       "7174            0.0               0.0          0.0               0.0   \n",
       "7175            0.0               0.0          0.0               0.0   \n",
       "7176            0.0               0.0          0.0               0.0   \n",
       "7177            0.0               0.0          0.0               0.0   \n",
       "\n",
       "      cnty_Turkey   cnty_U.K.  cnty_Uganda  \n",
       "0              0.0        0.0          0.0  \n",
       "1              0.0        0.0          0.0  \n",
       "2              0.0        0.0          0.0  \n",
       "3              0.0        0.0          0.0  \n",
       "4              0.0        0.0          0.0  \n",
       "...            ...        ...          ...  \n",
       "7173           0.0        0.0          1.0  \n",
       "7174           0.0        0.0          1.0  \n",
       "7175           0.0        0.0          1.0  \n",
       "7176           0.0        0.0          1.0  \n",
       "7177           0.0        0.0          1.0  \n",
       "\n",
       "[7178 rows x 71 columns]"
      ]
     },
     "execution_count": 6,
     "metadata": {},
     "output_type": "execute_result"
    }
   ],
   "source": [
    "# Scale X with Robust Scaler\n",
    "\n",
    "cols= list(X.columns)\n",
    "scaler = preprocessing.RobustScaler()\n",
    "Xsc = scaler.fit_transform(X)\n",
    "Xsc = pd.DataFrame(Xsc, columns=cols)\n",
    "Xsc\n"
   ]
  },
  {
   "cell_type": "code",
   "execution_count": 7,
   "metadata": {},
   "outputs": [
    {
     "name": "stderr",
     "output_type": "stream",
     "text": [
      "C:\\Users\\webge\\anaconda3\\lib\\site-packages\\statsmodels\\regression\\linear_model.py:1717: RuntimeWarning: invalid value encountered in double_scalars\n",
      "  return 1 - self.ssr/self.uncentered_tss\n"
     ]
    },
    {
     "data": {
      "text/html": [
       "<div>\n",
       "<style scoped>\n",
       "    .dataframe tbody tr th:only-of-type {\n",
       "        vertical-align: middle;\n",
       "    }\n",
       "\n",
       "    .dataframe tbody tr th {\n",
       "        vertical-align: top;\n",
       "    }\n",
       "\n",
       "    .dataframe thead th {\n",
       "        text-align: right;\n",
       "    }\n",
       "</style>\n",
       "<table border=\"1\" class=\"dataframe\">\n",
       "  <thead>\n",
       "    <tr style=\"text-align: right;\">\n",
       "      <th></th>\n",
       "      <th>feature</th>\n",
       "      <th>VIF</th>\n",
       "    </tr>\n",
       "  </thead>\n",
       "  <tbody>\n",
       "    <tr>\n",
       "      <th>33</th>\n",
       "      <td>rel_Muslim</td>\n",
       "      <td>9.137914</td>\n",
       "    </tr>\n",
       "    <tr>\n",
       "      <th>49</th>\n",
       "      <td>cnty_India</td>\n",
       "      <td>6.354239</td>\n",
       "    </tr>\n",
       "    <tr>\n",
       "      <th>30</th>\n",
       "      <td>rel_Hindu</td>\n",
       "      <td>6.078286</td>\n",
       "    </tr>\n",
       "    <tr>\n",
       "      <th>3</th>\n",
       "      <td>marriage_duration_years</td>\n",
       "      <td>5.720534</td>\n",
       "    </tr>\n",
       "    <tr>\n",
       "      <th>2</th>\n",
       "      <td>age</td>\n",
       "      <td>5.092878</td>\n",
       "    </tr>\n",
       "    <tr>\n",
       "      <th>51</th>\n",
       "      <td>cnty_Iran</td>\n",
       "      <td>4.949703</td>\n",
       "    </tr>\n",
       "    <tr>\n",
       "      <th>35</th>\n",
       "      <td>rel_Orthodox</td>\n",
       "      <td>4.612692</td>\n",
       "    </tr>\n",
       "    <tr>\n",
       "      <th>24</th>\n",
       "      <td>indv_pride_in_children</td>\n",
       "      <td>4.218453</td>\n",
       "    </tr>\n",
       "    <tr>\n",
       "      <th>20</th>\n",
       "      <td>natl_pride_in_children</td>\n",
       "      <td>3.595851</td>\n",
       "    </tr>\n",
       "    <tr>\n",
       "      <th>68</th>\n",
       "      <td>cnty_Turkey</td>\n",
       "      <td>3.363938</td>\n",
       "    </tr>\n",
       "  </tbody>\n",
       "</table>\n",
       "</div>"
      ],
      "text/plain": [
       "                    feature       VIF\n",
       "33               rel_Muslim  9.137914\n",
       "49               cnty_India  6.354239\n",
       "30                rel_Hindu  6.078286\n",
       "3   marriage_duration_years  5.720534\n",
       "2                       age  5.092878\n",
       "51               cnty_Iran   4.949703\n",
       "35             rel_Orthodox  4.612692\n",
       "24   indv_pride_in_children  4.218453\n",
       "20   natl_pride_in_children  3.595851\n",
       "68             cnty_Turkey   3.363938"
      ]
     },
     "execution_count": 7,
     "metadata": {},
     "output_type": "execute_result"
    }
   ],
   "source": [
    "# VIF for scaled data\n",
    "# Add constant\n",
    "\n",
    "vifsc = pd.DataFrame()\n",
    "vifsc[\"feature\"] = Xsc.columns\n",
    "vifsc[\"VIF\"]=[variance_inflation_factor(Xsc.values, i) for i in range(len(Xsc.columns))]\n",
    "vifsc.sort_values(by='VIF', ascending=False).head(n=10)\n",
    "\n",
    "# Is this done correctly? If so, do I basically keep everything? (except possibly duration)"
   ]
  },
  {
   "cell_type": "code",
   "execution_count": 8,
   "metadata": {},
   "outputs": [
    {
     "name": "stderr",
     "output_type": "stream",
     "text": [
      "C:\\Users\\webge\\anaconda3\\lib\\site-packages\\statsmodels\\regression\\linear_model.py:1717: RuntimeWarning: invalid value encountered in double_scalars\n",
      "  return 1 - self.ssr/self.uncentered_tss\n"
     ]
    },
    {
     "data": {
      "text/html": [
       "<div>\n",
       "<style scoped>\n",
       "    .dataframe tbody tr th:only-of-type {\n",
       "        vertical-align: middle;\n",
       "    }\n",
       "\n",
       "    .dataframe tbody tr th {\n",
       "        vertical-align: top;\n",
       "    }\n",
       "\n",
       "    .dataframe thead th {\n",
       "        text-align: right;\n",
       "    }\n",
       "</style>\n",
       "<table border=\"1\" class=\"dataframe\">\n",
       "  <thead>\n",
       "    <tr style=\"text-align: right;\">\n",
       "      <th></th>\n",
       "      <th>feature</th>\n",
       "      <th>VIF</th>\n",
       "    </tr>\n",
       "  </thead>\n",
       "  <tbody>\n",
       "    <tr>\n",
       "      <th>0</th>\n",
       "      <td>rel_Orthodox</td>\n",
       "      <td>4.353527</td>\n",
       "    </tr>\n",
       "    <tr>\n",
       "      <th>1</th>\n",
       "      <td>indv_pride_in_children</td>\n",
       "      <td>4.197491</td>\n",
       "    </tr>\n",
       "    <tr>\n",
       "      <th>2</th>\n",
       "      <td>natl_pride_in_children</td>\n",
       "      <td>3.582275</td>\n",
       "    </tr>\n",
       "    <tr>\n",
       "      <th>3</th>\n",
       "      <td>spouse_pride</td>\n",
       "      <td>3.329027</td>\n",
       "    </tr>\n",
       "    <tr>\n",
       "      <th>4</th>\n",
       "      <td>spouse_attraction</td>\n",
       "      <td>3.233326</td>\n",
       "    </tr>\n",
       "    <tr>\n",
       "      <th>...</th>\n",
       "      <td>...</td>\n",
       "      <td>...</td>\n",
       "    </tr>\n",
       "    <tr>\n",
       "      <th>63</th>\n",
       "      <td>rel_Other</td>\n",
       "      <td>1.083592</td>\n",
       "    </tr>\n",
       "    <tr>\n",
       "      <th>64</th>\n",
       "      <td>rel_Jehovah</td>\n",
       "      <td>1.069476</td>\n",
       "    </tr>\n",
       "    <tr>\n",
       "      <th>65</th>\n",
       "      <td>rel_Jewish</td>\n",
       "      <td>1.036192</td>\n",
       "    </tr>\n",
       "    <tr>\n",
       "      <th>66</th>\n",
       "      <td>rel_Evangelic</td>\n",
       "      <td>1.008569</td>\n",
       "    </tr>\n",
       "    <tr>\n",
       "      <th>67</th>\n",
       "      <td>const</td>\n",
       "      <td>NaN</td>\n",
       "    </tr>\n",
       "  </tbody>\n",
       "</table>\n",
       "<p>68 rows × 2 columns</p>\n",
       "</div>"
      ],
      "text/plain": [
       "                   feature       VIF\n",
       "0             rel_Orthodox  4.353527\n",
       "1   indv_pride_in_children  4.197491\n",
       "2   natl_pride_in_children  3.582275\n",
       "3             spouse_pride  3.329027\n",
       "4        spouse_attraction  3.233326\n",
       "..                     ...       ...\n",
       "63               rel_Other  1.083592\n",
       "64             rel_Jehovah  1.069476\n",
       "65              rel_Jewish  1.036192\n",
       "66           rel_Evangelic  1.008569\n",
       "67                   const       NaN\n",
       "\n",
       "[68 rows x 2 columns]"
      ]
     },
     "execution_count": 8,
     "metadata": {},
     "output_type": "execute_result"
    }
   ],
   "source": [
    "# Kept eliminating columns until VIF was under 5 for all features, scaled this time\n",
    "\n",
    "Xscvif5 = Xsc.drop(['rel_Muslim', 'cnty_India', 'marriage_duration_years'], axis=1)\n",
    "vif = pd.DataFrame()\n",
    "vif[\"feature\"] = Xscvif5.columns\n",
    "vif[\"VIF\"]=[variance_inflation_factor(Xscvif5.values, i) for i in range(len(Xscvif5.columns))]\n",
    "vif = vif.sort_values(by='VIF', ascending=False).reset_index(drop=True)\n",
    "vif"
   ]
  },
  {
   "cell_type": "code",
   "execution_count": 9,
   "metadata": {
    "scrolled": false
   },
   "outputs": [
    {
     "data": {
      "text/plain": [
       "0    6533\n",
       "1     645\n",
       "Name: marital_satisfaction, dtype: int64"
      ]
     },
     "execution_count": 9,
     "metadata": {},
     "output_type": "execute_result"
    }
   ],
   "source": [
    "# classifier 0 not unhappy, 1 unhappy\n",
    "\n",
    "y.replace(to_replace=[0,1,2,3], value=0, inplace=True)\n",
    "y.replace(to_replace=[-3,-2,-1], value=1, inplace=True)\n",
    "y.value_counts()"
   ]
  },
  {
   "cell_type": "code",
   "execution_count": 10,
   "metadata": {
    "scrolled": false
   },
   "outputs": [],
   "source": [
    "# Logistic Reg, Use scaled\n",
    "X_train_logit, X_test_logit, y_train_logit, y_test_logit = train_test_split(Xscvif5,y,test_size=.25, random_state=8)\n",
    "# Random Forest, Use unscaled? Could also use scaled, more vars after all\n",
    "X_train_rf, X_test_rf, y_train_rf, y_test_rf = train_test_split(Xvif10,y,test_size=.25, random_state=8)\n",
    "# SVM, Use scaled\n",
    "X_train_svc, X_test_svc, y_train_svc, y_test_svc = train_test_split(Xscvif5,y,test_size=.25, random_state=8)"
   ]
  },
  {
   "cell_type": "code",
   "execution_count": 11,
   "metadata": {},
   "outputs": [],
   "source": [
    "# Initiate Logistic Reg\n",
    "\n",
    "log_reg = LogisticRegression(max_iter=1000)"
   ]
  },
  {
   "cell_type": "code",
   "execution_count": 12,
   "metadata": {},
   "outputs": [],
   "source": [
    "#Cross validate\n",
    "\n",
    "param_grid = {'C': [0.001, 0.01, 0.1, 1, 10, 100, 1000],\n",
    "             }"
   ]
  },
  {
   "cell_type": "code",
   "execution_count": 13,
   "metadata": {},
   "outputs": [
    {
     "data": {
      "text/plain": [
       "LogisticRegression(C=0.01, max_iter=1000)"
      ]
     },
     "execution_count": 13,
     "metadata": {},
     "output_type": "execute_result"
    }
   ],
   "source": [
    "lr_cv = GridSearchCV(log_reg, param_grid, cv=10, scoring='accuracy')\n",
    "\n",
    "lr_cv.fit(Xscvif5,y)\n",
    "lr_cv.best_estimator_"
   ]
  },
  {
   "cell_type": "code",
   "execution_count": 14,
   "metadata": {},
   "outputs": [],
   "source": [
    "log_reg = LogisticRegression(C=.01, max_iter=1000)\n",
    "log_reg.fit(X_train_logit, y_train_logit)\n",
    "y_pred_logit = log_reg.predict(X_test_logit)"
   ]
  },
  {
   "cell_type": "code",
   "execution_count": 15,
   "metadata": {},
   "outputs": [],
   "source": [
    "from sklearn.metrics import roc_curve, auc"
   ]
  },
  {
   "cell_type": "code",
   "execution_count": 16,
   "metadata": {},
   "outputs": [
    {
     "name": "stdout",
     "output_type": "stream",
     "text": [
      "0.6566018727035676\n"
     ]
    }
   ],
   "source": [
    "logit_fpr, logit_tpr, threshold = roc_curve(y_test_logit, y_pred_logit)\n",
    "auc_logit = auc(logit_fpr, logit_tpr)\n",
    "\n",
    "\n",
    "print(auc_logit)\n",
    "\n",
    "#Seems like I did this wrong?"
   ]
  },
  {
   "cell_type": "code",
   "execution_count": 17,
   "metadata": {},
   "outputs": [
    {
     "data": {
      "text/plain": [
       "0.9381615598885794"
      ]
     },
     "execution_count": 17,
     "metadata": {},
     "output_type": "execute_result"
    }
   ],
   "source": [
    "log_reg.score(X_test_logit, y_test_logit)"
   ]
  },
  {
   "cell_type": "code",
   "execution_count": 18,
   "metadata": {},
   "outputs": [],
   "source": [
    "rf=ensemble.RandomForestClassifier()\n",
    "\n",
    "param_grid = { \n",
    "    'n_estimators': [10, 25, 50, 75, 100],\n",
    "    'max_features': ['auto', 'log2'],\n",
    "    'max_depth' : [2,3,4,5,6],\n",
    "}"
   ]
  },
  {
   "cell_type": "code",
   "execution_count": 19,
   "metadata": {},
   "outputs": [
    {
     "data": {
      "text/plain": [
       "RandomForestClassifier(max_depth=5, max_features='log2', n_estimators=50)"
      ]
     },
     "execution_count": 19,
     "metadata": {},
     "output_type": "execute_result"
    }
   ],
   "source": [
    "rf_cv = GridSearchCV(rf, param_grid, cv=10, scoring='accuracy')\n",
    "\n",
    "rf_cv.fit(Xvif10,y)\n",
    "rf_cv.best_estimator_"
   ]
  },
  {
   "cell_type": "code",
   "execution_count": 20,
   "metadata": {},
   "outputs": [],
   "source": [
    "# Train random forest\n",
    "\n",
    "rf=ensemble.RandomForestClassifier(max_depth=6, n_estimators=25)\n",
    "rf.fit(X_train_rf, y_train_rf)\n",
    "y_pred_rf = rf.predict(X_test_rf)"
   ]
  },
  {
   "cell_type": "code",
   "execution_count": 21,
   "metadata": {},
   "outputs": [
    {
     "name": "stdout",
     "output_type": "stream",
     "text": [
      "0.6467176890905705\n"
     ]
    }
   ],
   "source": [
    "rf_fpr, rf_tpr, threshold = roc_curve(y_test_rf, y_pred_rf)\n",
    "auc_rf = auc(rf_fpr, rf_tpr)\n",
    "print(auc_rf)"
   ]
  },
  {
   "cell_type": "code",
   "execution_count": 22,
   "metadata": {},
   "outputs": [],
   "source": [
    "# Seems like every time I CV, the AUC goes down. Am I doing this right?"
   ]
  },
  {
   "cell_type": "code",
   "execution_count": 23,
   "metadata": {},
   "outputs": [
    {
     "data": {
      "text/html": [
       "<div>\n",
       "<style scoped>\n",
       "    .dataframe tbody tr th:only-of-type {\n",
       "        vertical-align: middle;\n",
       "    }\n",
       "\n",
       "    .dataframe tbody tr th {\n",
       "        vertical-align: top;\n",
       "    }\n",
       "\n",
       "    .dataframe thead th {\n",
       "        text-align: right;\n",
       "    }\n",
       "</style>\n",
       "<table border=\"1\" class=\"dataframe\">\n",
       "  <thead>\n",
       "    <tr style=\"text-align: right;\">\n",
       "      <th></th>\n",
       "      <th>importance</th>\n",
       "    </tr>\n",
       "  </thead>\n",
       "  <tbody>\n",
       "    <tr>\n",
       "      <th>enjoy_spouse_company</th>\n",
       "      <td>0.121935</td>\n",
       "    </tr>\n",
       "    <tr>\n",
       "      <th>spouse_love</th>\n",
       "      <td>0.118065</td>\n",
       "    </tr>\n",
       "    <tr>\n",
       "      <th>spouse_pride</th>\n",
       "      <td>0.112550</td>\n",
       "    </tr>\n",
       "    <tr>\n",
       "      <th>happiness</th>\n",
       "      <td>0.097277</td>\n",
       "    </tr>\n",
       "    <tr>\n",
       "      <th>spouse_enjoy_cuddling</th>\n",
       "      <td>0.091786</td>\n",
       "    </tr>\n",
       "    <tr>\n",
       "      <th>...</th>\n",
       "      <td>...</td>\n",
       "    </tr>\n",
       "    <tr>\n",
       "      <th>cnty_Kazakhstan</th>\n",
       "      <td>0.000000</td>\n",
       "    </tr>\n",
       "    <tr>\n",
       "      <th>rel_Jehovah</th>\n",
       "      <td>0.000000</td>\n",
       "    </tr>\n",
       "    <tr>\n",
       "      <th>rel_Evangelic</th>\n",
       "      <td>0.000000</td>\n",
       "    </tr>\n",
       "    <tr>\n",
       "      <th>rel_Buddhist</th>\n",
       "      <td>0.000000</td>\n",
       "    </tr>\n",
       "    <tr>\n",
       "      <th>rel_Other</th>\n",
       "      <td>0.000000</td>\n",
       "    </tr>\n",
       "  </tbody>\n",
       "</table>\n",
       "<p>68 rows × 1 columns</p>\n",
       "</div>"
      ],
      "text/plain": [
       "                       importance\n",
       "enjoy_spouse_company     0.121935\n",
       "spouse_love              0.118065\n",
       "spouse_pride             0.112550\n",
       "happiness                0.097277\n",
       "spouse_enjoy_cuddling    0.091786\n",
       "...                           ...\n",
       "cnty_Kazakhstan          0.000000\n",
       "rel_Jehovah              0.000000\n",
       "rel_Evangelic            0.000000\n",
       "rel_Buddhist             0.000000\n",
       "rel_Other                0.000000\n",
       "\n",
       "[68 rows x 1 columns]"
      ]
     },
     "execution_count": 23,
     "metadata": {},
     "output_type": "execute_result"
    }
   ],
   "source": [
    "fi_rf = pd.DataFrame(rf.feature_importances_, index = X_train_rf.columns, columns=['importance']).sort_values('importance', ascending=False)\n",
    "fi_rf"
   ]
  },
  {
   "cell_type": "code",
   "execution_count": 24,
   "metadata": {},
   "outputs": [],
   "source": [
    "from sklearn.svm import SVC"
   ]
  },
  {
   "cell_type": "code",
   "execution_count": 25,
   "metadata": {},
   "outputs": [],
   "source": [
    "svc=SVC()\n",
    "\n",
    "param_grid = {'C': [0.001, 0.01, 0.1, 1, 10, 100, 1000],  }"
   ]
  },
  {
   "cell_type": "code",
   "execution_count": 26,
   "metadata": {},
   "outputs": [
    {
     "data": {
      "text/plain": [
       "SVC(C=0.1)"
      ]
     },
     "execution_count": 26,
     "metadata": {},
     "output_type": "execute_result"
    }
   ],
   "source": [
    "svc_cv = GridSearchCV(svc, param_grid, cv=10, scoring='accuracy')\n",
    "\n",
    "svc_cv.fit(Xscvif5,y)\n",
    "svc_cv.best_estimator_"
   ]
  },
  {
   "cell_type": "code",
   "execution_count": 27,
   "metadata": {},
   "outputs": [],
   "source": [
    "\n",
    "#Train SVM\n",
    "\n",
    "svc=SVC(C=.1)\n",
    "svc.fit(X_train_svc, y_train_svc)\n",
    "y_pred_svc = svc.predict(X_test_svc)"
   ]
  },
  {
   "cell_type": "code",
   "execution_count": 28,
   "metadata": {},
   "outputs": [
    {
     "name": "stdout",
     "output_type": "stream",
     "text": [
      "0.5868072605360741\n"
     ]
    }
   ],
   "source": [
    "svc_fpr, svc_tpr, threshold = roc_curve(y_test_svc, y_pred_svc)\n",
    "auc_svc = auc(svc_fpr, svc_tpr)\n",
    "print(auc_svc)"
   ]
  },
  {
   "cell_type": "code",
   "execution_count": 29,
   "metadata": {},
   "outputs": [
    {
     "data": {
      "image/png": "[encoded data removed]",
      "text/plain": [
       "<Figure size 432x288 with 1 Axes>"
      ]
     },
     "metadata": {
      "needs_background": "light"
     },
     "output_type": "display_data"
    }
   ],
   "source": [
    "# Even with CV, still only has the following points. Doesn't make sense to me why\n",
    "\n",
    "plt.plot(logit_fpr, logit_tpr, marker='.', color='blue', label='Logistic Regression %f' % auc_logit)\n",
    "plt.plot(rf_fpr, rf_tpr, marker='.', color='green', label='Random Forest %f' % auc_rf)\n",
    "plt.plot(svc_fpr, svc_tpr, marker='.', color='red', label='SVC %f' % auc_svc)\n",
    "\n",
    "plt.legend()\n",
    "plt.show()"
   ]
  },
  {
   "cell_type": "code",
   "execution_count": 30,
   "metadata": {},
   "outputs": [],
   "source": [
    "# fpr/tpr are coordinate points perhaps? That could be the reason for only one point. How to fix?"
   ]
  },
  {
   "cell_type": "code",
   "execution_count": 31,
   "metadata": {},
   "outputs": [
    {
     "data": {
      "image/png": "[encoded data removed]",
      "text/plain": [
       "<Figure size 1440x1440 with 1 Axes>"
      ]
     },
     "metadata": {
      "needs_background": "light"
     },
     "output_type": "display_data"
    },
    {
     "name": "stdout",
     "output_type": "stream",
     "text": [
      "['enjoy_spouse_company', 'spouse_love', 'spouse_pride', 'happiness', 'spouse_enjoy_cuddling', 'spouse_attraction', 'spouse_romance', 'spouse_respect']\n"
     ]
    }
   ],
   "source": [
    "# feature selection via rf\n",
    "\n",
    "\n",
    "fi_rf.plot(kind='bar', figsize=(20,20))\n",
    "plt.show()\n",
    "print(list(fi_rf.index[0:8]))"
   ]
  },
  {
   "cell_type": "code",
   "execution_count": 32,
   "metadata": {},
   "outputs": [
    {
     "data": {
      "text/html": [
       "<div>\n",
       "<style scoped>\n",
       "    .dataframe tbody tr th:only-of-type {\n",
       "        vertical-align: middle;\n",
       "    }\n",
       "\n",
       "    .dataframe tbody tr th {\n",
       "        vertical-align: top;\n",
       "    }\n",
       "\n",
       "    .dataframe thead th {\n",
       "        text-align: right;\n",
       "    }\n",
       "</style>\n",
       "<table border=\"1\" class=\"dataframe\">\n",
       "  <thead>\n",
       "    <tr style=\"text-align: right;\">\n",
       "      <th></th>\n",
       "      <th>const</th>\n",
       "      <th>sex</th>\n",
       "      <th>age</th>\n",
       "      <th>num_children_total</th>\n",
       "      <th>num_children_inhome</th>\n",
       "      <th>edu_level</th>\n",
       "      <th>material_situation</th>\n",
       "      <th>religiosity</th>\n",
       "      <th>pension</th>\n",
       "      <th>enjoy_spouse_company</th>\n",
       "      <th>...</th>\n",
       "      <th>cnty_Romania</th>\n",
       "      <th>cnty_Russia</th>\n",
       "      <th>cnty_Saudi Arabia</th>\n",
       "      <th>cnty_Slovakia</th>\n",
       "      <th>cnty_South Korea</th>\n",
       "      <th>cnty_Spain</th>\n",
       "      <th>cnty_Switzerland</th>\n",
       "      <th>cnty_Turkey</th>\n",
       "      <th>cnty_U.K.</th>\n",
       "      <th>cnty_Uganda</th>\n",
       "    </tr>\n",
       "  </thead>\n",
       "  <tbody>\n",
       "    <tr>\n",
       "      <th>count</th>\n",
       "      <td>7178.0</td>\n",
       "      <td>7178.000000</td>\n",
       "      <td>7178.000000</td>\n",
       "      <td>7178.000000</td>\n",
       "      <td>7178.000000</td>\n",
       "      <td>7178.000000</td>\n",
       "      <td>7178.000000</td>\n",
       "      <td>7178.000000</td>\n",
       "      <td>7178.000000</td>\n",
       "      <td>7178.000000</td>\n",
       "      <td>...</td>\n",
       "      <td>7178.000000</td>\n",
       "      <td>7178.000000</td>\n",
       "      <td>7178.000000</td>\n",
       "      <td>7178.000000</td>\n",
       "      <td>7178.000000</td>\n",
       "      <td>7178.000000</td>\n",
       "      <td>7178.000000</td>\n",
       "      <td>7178.000000</td>\n",
       "      <td>7178.000000</td>\n",
       "      <td>7178.000000</td>\n",
       "    </tr>\n",
       "    <tr>\n",
       "      <th>mean</th>\n",
       "      <td>0.0</td>\n",
       "      <td>0.533157</td>\n",
       "      <td>0.333309</td>\n",
       "      <td>0.147221</td>\n",
       "      <td>0.112845</td>\n",
       "      <td>0.810741</td>\n",
       "      <td>0.596301</td>\n",
       "      <td>0.506199</td>\n",
       "      <td>0.557212</td>\n",
       "      <td>0.889558</td>\n",
       "      <td>...</td>\n",
       "      <td>0.007384</td>\n",
       "      <td>0.031206</td>\n",
       "      <td>0.027724</td>\n",
       "      <td>0.032600</td>\n",
       "      <td>0.013931</td>\n",
       "      <td>0.027863</td>\n",
       "      <td>0.023962</td>\n",
       "      <td>0.054611</td>\n",
       "      <td>0.013931</td>\n",
       "      <td>0.013792</td>\n",
       "    </tr>\n",
       "    <tr>\n",
       "      <th>std</th>\n",
       "      <td>0.0</td>\n",
       "      <td>0.498934</td>\n",
       "      <td>0.161223</td>\n",
       "      <td>0.108979</td>\n",
       "      <td>0.106390</td>\n",
       "      <td>0.237409</td>\n",
       "      <td>0.207996</td>\n",
       "      <td>0.296272</td>\n",
       "      <td>0.325272</td>\n",
       "      <td>0.200888</td>\n",
       "      <td>...</td>\n",
       "      <td>0.085616</td>\n",
       "      <td>0.173887</td>\n",
       "      <td>0.164191</td>\n",
       "      <td>0.177599</td>\n",
       "      <td>0.117215</td>\n",
       "      <td>0.164591</td>\n",
       "      <td>0.152942</td>\n",
       "      <td>0.227236</td>\n",
       "      <td>0.117215</td>\n",
       "      <td>0.116635</td>\n",
       "    </tr>\n",
       "    <tr>\n",
       "      <th>min</th>\n",
       "      <td>0.0</td>\n",
       "      <td>0.000000</td>\n",
       "      <td>0.000000</td>\n",
       "      <td>0.000000</td>\n",
       "      <td>0.000000</td>\n",
       "      <td>0.000000</td>\n",
       "      <td>0.000000</td>\n",
       "      <td>0.000000</td>\n",
       "      <td>0.000000</td>\n",
       "      <td>0.000000</td>\n",
       "      <td>...</td>\n",
       "      <td>0.000000</td>\n",
       "      <td>0.000000</td>\n",
       "      <td>0.000000</td>\n",
       "      <td>0.000000</td>\n",
       "      <td>0.000000</td>\n",
       "      <td>0.000000</td>\n",
       "      <td>0.000000</td>\n",
       "      <td>0.000000</td>\n",
       "      <td>0.000000</td>\n",
       "      <td>0.000000</td>\n",
       "    </tr>\n",
       "    <tr>\n",
       "      <th>25%</th>\n",
       "      <td>0.0</td>\n",
       "      <td>0.000000</td>\n",
       "      <td>0.211268</td>\n",
       "      <td>0.083333</td>\n",
       "      <td>0.000000</td>\n",
       "      <td>0.750000</td>\n",
       "      <td>0.500000</td>\n",
       "      <td>0.333333</td>\n",
       "      <td>0.333333</td>\n",
       "      <td>0.750000</td>\n",
       "      <td>...</td>\n",
       "      <td>0.000000</td>\n",
       "      <td>0.000000</td>\n",
       "      <td>0.000000</td>\n",
       "      <td>0.000000</td>\n",
       "      <td>0.000000</td>\n",
       "      <td>0.000000</td>\n",
       "      <td>0.000000</td>\n",
       "      <td>0.000000</td>\n",
       "      <td>0.000000</td>\n",
       "      <td>0.000000</td>\n",
       "    </tr>\n",
       "    <tr>\n",
       "      <th>50%</th>\n",
       "      <td>0.0</td>\n",
       "      <td>1.000000</td>\n",
       "      <td>0.309859</td>\n",
       "      <td>0.166667</td>\n",
       "      <td>0.076923</td>\n",
       "      <td>1.000000</td>\n",
       "      <td>0.500000</td>\n",
       "      <td>0.500000</td>\n",
       "      <td>0.666667</td>\n",
       "      <td>1.000000</td>\n",
       "      <td>...</td>\n",
       "      <td>0.000000</td>\n",
       "      <td>0.000000</td>\n",
       "      <td>0.000000</td>\n",
       "      <td>0.000000</td>\n",
       "      <td>0.000000</td>\n",
       "      <td>0.000000</td>\n",
       "      <td>0.000000</td>\n",
       "      <td>0.000000</td>\n",
       "      <td>0.000000</td>\n",
       "      <td>0.000000</td>\n",
       "    </tr>\n",
       "    <tr>\n",
       "      <th>75%</th>\n",
       "      <td>0.0</td>\n",
       "      <td>1.000000</td>\n",
       "      <td>0.450704</td>\n",
       "      <td>0.166667</td>\n",
       "      <td>0.153846</td>\n",
       "      <td>1.000000</td>\n",
       "      <td>0.750000</td>\n",
       "      <td>0.666667</td>\n",
       "      <td>0.833333</td>\n",
       "      <td>1.000000</td>\n",
       "      <td>...</td>\n",
       "      <td>0.000000</td>\n",
       "      <td>0.000000</td>\n",
       "      <td>0.000000</td>\n",
       "      <td>0.000000</td>\n",
       "      <td>0.000000</td>\n",
       "      <td>0.000000</td>\n",
       "      <td>0.000000</td>\n",
       "      <td>0.000000</td>\n",
       "      <td>0.000000</td>\n",
       "      <td>0.000000</td>\n",
       "    </tr>\n",
       "    <tr>\n",
       "      <th>max</th>\n",
       "      <td>0.0</td>\n",
       "      <td>1.000000</td>\n",
       "      <td>1.000000</td>\n",
       "      <td>1.000000</td>\n",
       "      <td>1.000000</td>\n",
       "      <td>1.000000</td>\n",
       "      <td>1.000000</td>\n",
       "      <td>1.000000</td>\n",
       "      <td>1.000000</td>\n",
       "      <td>1.000000</td>\n",
       "      <td>...</td>\n",
       "      <td>1.000000</td>\n",
       "      <td>1.000000</td>\n",
       "      <td>1.000000</td>\n",
       "      <td>1.000000</td>\n",
       "      <td>1.000000</td>\n",
       "      <td>1.000000</td>\n",
       "      <td>1.000000</td>\n",
       "      <td>1.000000</td>\n",
       "      <td>1.000000</td>\n",
       "      <td>1.000000</td>\n",
       "    </tr>\n",
       "  </tbody>\n",
       "</table>\n",
       "<p>8 rows × 68 columns</p>\n",
       "</div>"
      ],
      "text/plain": [
       "        const          sex          age  num_children_total  \\\n",
       "count  7178.0  7178.000000  7178.000000         7178.000000   \n",
       "mean      0.0     0.533157     0.333309            0.147221   \n",
       "std       0.0     0.498934     0.161223            0.108979   \n",
       "min       0.0     0.000000     0.000000            0.000000   \n",
       "25%       0.0     0.000000     0.211268            0.083333   \n",
       "50%       0.0     1.000000     0.309859            0.166667   \n",
       "75%       0.0     1.000000     0.450704            0.166667   \n",
       "max       0.0     1.000000     1.000000            1.000000   \n",
       "\n",
       "       num_children_inhome    edu_level  material_situation  religiosity  \\\n",
       "count          7178.000000  7178.000000         7178.000000  7178.000000   \n",
       "mean              0.112845     0.810741            0.596301     0.506199   \n",
       "std               0.106390     0.237409            0.207996     0.296272   \n",
       "min               0.000000     0.000000            0.000000     0.000000   \n",
       "25%               0.000000     0.750000            0.500000     0.333333   \n",
       "50%               0.076923     1.000000            0.500000     0.500000   \n",
       "75%               0.153846     1.000000            0.750000     0.666667   \n",
       "max               1.000000     1.000000            1.000000     1.000000   \n",
       "\n",
       "           pension  enjoy_spouse_company  ...  cnty_Romania  cnty_Russia  \\\n",
       "count  7178.000000           7178.000000  ...   7178.000000  7178.000000   \n",
       "mean      0.557212              0.889558  ...      0.007384     0.031206   \n",
       "std       0.325272              0.200888  ...      0.085616     0.173887   \n",
       "min       0.000000              0.000000  ...      0.000000     0.000000   \n",
       "25%       0.333333              0.750000  ...      0.000000     0.000000   \n",
       "50%       0.666667              1.000000  ...      0.000000     0.000000   \n",
       "75%       0.833333              1.000000  ...      0.000000     0.000000   \n",
       "max       1.000000              1.000000  ...      1.000000     1.000000   \n",
       "\n",
       "       cnty_Saudi Arabia  cnty_Slovakia  cnty_South Korea  cnty_Spain   \\\n",
       "count        7178.000000    7178.000000       7178.000000  7178.000000   \n",
       "mean            0.027724       0.032600          0.013931     0.027863   \n",
       "std             0.164191       0.177599          0.117215     0.164591   \n",
       "min             0.000000       0.000000          0.000000     0.000000   \n",
       "25%             0.000000       0.000000          0.000000     0.000000   \n",
       "50%             0.000000       0.000000          0.000000     0.000000   \n",
       "75%             0.000000       0.000000          0.000000     0.000000   \n",
       "max             1.000000       1.000000          1.000000     1.000000   \n",
       "\n",
       "       cnty_Switzerland  cnty_Turkey     cnty_U.K.  cnty_Uganda  \n",
       "count       7178.000000   7178.000000  7178.000000  7178.000000  \n",
       "mean           0.023962      0.054611     0.013931     0.013792  \n",
       "std            0.152942      0.227236     0.117215     0.116635  \n",
       "min            0.000000      0.000000     0.000000     0.000000  \n",
       "25%            0.000000      0.000000     0.000000     0.000000  \n",
       "50%            0.000000      0.000000     0.000000     0.000000  \n",
       "75%            0.000000      0.000000     0.000000     0.000000  \n",
       "max            1.000000      1.000000     1.000000     1.000000  \n",
       "\n",
       "[8 rows x 68 columns]"
      ]
     },
     "execution_count": 32,
     "metadata": {},
     "output_type": "execute_result"
    }
   ],
   "source": [
    "# feature selection via kbest\n",
    "\n",
    "from sklearn.feature_selection import SelectKBest, chi2\n",
    "\n",
    "cols= list(X.columns)\n",
    "scaler = preprocessing.MinMaxScaler()\n",
    "Xnorm = scaler.fit_transform(X)\n",
    "Xnorm = pd.DataFrame(Xnorm, columns=cols)\n",
    "Xnorm = Xnorm.drop(['rel_Muslim', 'cnty_India', 'marriage_duration_years'], axis=1)\n",
    "\n",
    "Xnorm.describe()"
   ]
  },
  {
   "cell_type": "code",
   "execution_count": 33,
   "metadata": {},
   "outputs": [],
   "source": [
    "kbest_c2 = SelectKBest(score_func=chi2, k=5)\n",
    "ks_c2 = kbest_c2.fit_transform(Xnorm,y)"
   ]
  },
  {
   "cell_type": "code",
   "execution_count": 35,
   "metadata": {},
   "outputs": [
    {
     "data": {
      "text/plain": [
       "Index(['enjoy_spouse_company', 'spouse_enjoy_cuddling', 'spouse_pride',\n",
       "       'spouse_romance', 'spouse_love'],\n",
       "      dtype='object')"
      ]
     },
     "execution_count": 35,
     "metadata": {},
     "output_type": "execute_result"
    }
   ],
   "source": [
    "ks_c2_names = kbest_c2.get_support()\n",
    "c2_features = Xnorm.columns[ks_c2_names]\n",
    "c2_features"
   ]
  },
  {
   "cell_type": "code",
   "execution_count": 40,
   "metadata": {},
   "outputs": [],
   "source": [
    "# run models with random forest features\n",
    "\n",
    "X_rf_selected = X[['enjoy_spouse_company', 'spouse_love', 'spouse_pride', 'happiness', 'spouse_enjoy_cuddling', 'spouse_attraction', 'spouse_romance', 'spouse_respect']]\n",
    "X_train, X_test, y_train, y_test = train_test_split(X_rf_selected,y,test_size=.25, random_state=8)"
   ]
  },
  {
   "cell_type": "code",
   "execution_count": 42,
   "metadata": {},
   "outputs": [],
   "source": [
    "log_reg = LogisticRegression(C=.01, max_iter=1000)\n",
    "log_reg.fit(X_train, y_train)\n",
    "y_pred = log_reg.predict(X_test)"
   ]
  },
  {
   "cell_type": "code",
   "execution_count": 43,
   "metadata": {},
   "outputs": [
    {
     "name": "stdout",
     "output_type": "stream",
     "text": [
      "0.6569045361418242\n"
     ]
    }
   ],
   "source": [
    "logit_fpr, logit_tpr, threshold = roc_curve(y_test, y_pred)\n",
    "auc_logit = auc(logit_fpr, logit_tpr)\n",
    "\n",
    "\n",
    "print(auc_logit)"
   ]
  },
  {
   "cell_type": "code",
   "execution_count": 44,
   "metadata": {},
   "outputs": [
    {
     "name": "stdout",
     "output_type": "stream",
     "text": [
      "0.6900535904773194\n"
     ]
    }
   ],
   "source": [
    "rf=ensemble.RandomForestClassifier(max_depth=6, n_estimators=25)\n",
    "rf.fit(X_train, y_train)\n",
    "y_pred = rf.predict(X_test)\n",
    "rf_fpr, rf_tpr, threshold = roc_curve(y_test, y_pred)\n",
    "auc_rf = auc(rf_fpr, rf_tpr)\n",
    "print(auc_rf)"
   ]
  },
  {
   "cell_type": "code",
   "execution_count": 45,
   "metadata": {},
   "outputs": [
    {
     "name": "stdout",
     "output_type": "stream",
     "text": [
      "0.5989772938925481\n"
     ]
    }
   ],
   "source": [
    "svc=SVC(C=.1)\n",
    "svc.fit(X_train, y_train)\n",
    "y_pred = svc.predict(X_test)\n",
    "svc_fpr, svc_tpr, threshold = roc_curve(y_test, y_pred)\n",
    "auc_svc = auc(svc_fpr, svc_tpr)\n",
    "print(auc_svc)"
   ]
  },
  {
   "cell_type": "code",
   "execution_count": null,
   "metadata": {},
   "outputs": [],
   "source": [
    "# Each improved with the new feature set but not by much. Try k-best"
   ]
  },
  {
   "cell_type": "code",
   "execution_count": 46,
   "metadata": {},
   "outputs": [],
   "source": [
    "X_kb_selected = X[['enjoy_spouse_company', 'spouse_enjoy_cuddling', 'spouse_pride',\n",
    "       'spouse_romance', 'spouse_love']]\n",
    "X_train, X_test, y_train, y_test = train_test_split(X_kb_selected,y,test_size=.25, random_state=8)"
   ]
  },
  {
   "cell_type": "code",
   "execution_count": 47,
   "metadata": {},
   "outputs": [],
   "source": [
    "log_reg = LogisticRegression(C=.01, max_iter=1000)\n",
    "log_reg.fit(X_train, y_train)\n",
    "y_pred = log_reg.predict(X_test)"
   ]
  },
  {
   "cell_type": "code",
   "execution_count": 48,
   "metadata": {},
   "outputs": [
    {
     "name": "stdout",
     "output_type": "stream",
     "text": [
      "0.6336396654193265\n"
     ]
    }
   ],
   "source": [
    "logit_fpr, logit_tpr, threshold = roc_curve(y_test, y_pred)\n",
    "auc_logit = auc(logit_fpr, logit_tpr)\n",
    "\n",
    "\n",
    "print(auc_logit)"
   ]
  },
  {
   "cell_type": "code",
   "execution_count": 49,
   "metadata": {},
   "outputs": [
    {
     "name": "stdout",
     "output_type": "stream",
     "text": [
      "0.6842712372373388\n"
     ]
    }
   ],
   "source": [
    "rf=ensemble.RandomForestClassifier(max_depth=6, n_estimators=25)\n",
    "rf.fit(X_train, y_train)\n",
    "y_pred = rf.predict(X_test)\n",
    "rf_fpr, rf_tpr, threshold = roc_curve(y_test, y_pred)\n",
    "auc_rf = auc(rf_fpr, rf_tpr)\n",
    "print(auc_rf)"
   ]
  },
  {
   "cell_type": "code",
   "execution_count": 50,
   "metadata": {},
   "outputs": [
    {
     "name": "stdout",
     "output_type": "stream",
     "text": [
      "0.6365308420393166\n"
     ]
    }
   ],
   "source": [
    "svc=SVC(C=.1)\n",
    "svc.fit(X_train, y_train)\n",
    "y_pred = svc.predict(X_test)\n",
    "svc_fpr, svc_tpr, threshold = roc_curve(y_test, y_pred)\n",
    "auc_svc = auc(svc_fpr, svc_tpr)\n",
    "print(auc_svc)"
   ]
  },
  {
   "cell_type": "code",
   "execution_count": null,
   "metadata": {},
   "outputs": [],
   "source": [
    "# SVC did better but other two did worse\n",
    "# Also, is CV needed for these two now as well? Used the same parameters as before"
   ]
  },
  {
   "cell_type": "code",
   "execution_count": null,
   "metadata": {},
   "outputs": [],
   "source": [
    "# is fbeta done for each classifier? Is is best to pick one first then go on ahead with fbeta\n",
    "# if one SHOULD be chosen, highest AUC is random forest with chi-square features. Optimize this? .6901 is still low.."
   ]
  }
 ],
 "metadata": {
  "kernelspec": {
   "display_name": "Python 3",
   "language": "python",
   "name": "python3"
  },
  "language_info": {
   "codemirror_mode": {
    "name": "ipython",
    "version": 3
   },
   "file_extension": ".py",
   "mimetype": "text/x-python",
   "name": "python",
   "nbconvert_exporter": "python",
   "pygments_lexer": "ipython3",
   "version": "3.8.8"
  }
 },
 "nbformat": 4,
 "nbformat_minor": 4
}
